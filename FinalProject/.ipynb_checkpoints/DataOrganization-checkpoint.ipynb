{
 "cells": [
  {
   "cell_type": "code",
   "execution_count": 75,
   "metadata": {},
   "outputs": [],
   "source": [
    "import os\n",
    "import matplotlib.pyplot as plt\n",
    "%matplotlib inline\n",
    "import pandas as pd\n",
    "import tensorflow as tf\n",
    "import numpy as np\n",
    "import scipy as sp\n",
    "import sklearn as sk"
   ]
  },
  {
   "cell_type": "code",
   "execution_count": 172,
   "metadata": {},
   "outputs": [],
   "source": [
    "PROJECT_PATH = '/pine/scr/s/i/siyangj/DeepStock/FinalProject/'\n",
    "DATA_PATH = os.path.join(PROJECT_PATH,'Data/')\n",
    "RAW_DATA = os.path.join(DATA_PATH,'concat.csv')\n",
    "NAME_DATA = os.path.join(DATA_PATH,'named.csv')\n",
    "NAME_HDF5 = os.path.join(DATA_PATH,'named.h5')\n",
    "NAME_HDF5_ID = 'NAME_DATA'\n",
    "CLEAN_HDF5 = os.path.join(DATA_PATH,'clean.h5')\n",
    "CLEAN_HDF5_ID = 'CLEAN_DATA'\n",
    "STOCK_NAMES = ['AAPL','MSFT','AMZN','GOOG','BRKB',\n",
    "              'FB','JNJ','JPM','XOM','V','WMT','BAC',\n",
    "              'UNH','PFE','WFC','VZ','PG','CVX','T',\n",
    "              'INTC','CSCO','HD','MA','KO','BA',\n",
    "              'MRK','ORCL','DIS','CMCSA','PEP','C',\n",
    "              'MCD','PM','DWDP','ABBV','NFLX','MDT',\n",
    "              'ABT','NVDA','AMGN','NKE','ADBE','MO','LLY',\n",
    "              'MMM','IBM','HON','UNP','ACN',\n",
    "              'UTX']"
   ]
  },
  {
   "cell_type": "code",
   "execution_count": 6,
   "metadata": {},
   "outputs": [],
   "source": [
    "df = pd.read_csv(RAW_DATA)"
   ]
  },
  {
   "cell_type": "code",
   "execution_count": 13,
   "metadata": {},
   "outputs": [],
   "source": [
    "df.sort_values('Unnamed: 0',inplace=True)"
   ]
  },
  {
   "cell_type": "code",
   "execution_count": 14,
   "metadata": {},
   "outputs": [],
   "source": [
    "df.rename(columns={'Unnamed: 0':'Time'},inplace=True)"
   ]
  },
  {
   "cell_type": "code",
   "execution_count": 18,
   "metadata": {},
   "outputs": [],
   "source": [
    "df.set_index('Time',inplace=True)"
   ]
  },
  {
   "cell_type": "code",
   "execution_count": 24,
   "metadata": {},
   "outputs": [],
   "source": [
    "cols_1 = df.columns.values"
   ]
  },
  {
   "cell_type": "code",
   "execution_count": 27,
   "metadata": {},
   "outputs": [],
   "source": [
    "for c in cols_1:\n",
    "    if c[0:7]=='Unnamed':\n",
    "        df.drop(c,axis=1,inplace=True)"
   ]
  },
  {
   "cell_type": "code",
   "execution_count": 33,
   "metadata": {},
   "outputs": [],
   "source": [
    "stock_tuples = []\n",
    "stock_each = ['open','high','low','close','volume']"
   ]
  },
  {
   "cell_type": "code",
   "execution_count": 34,
   "metadata": {},
   "outputs": [],
   "source": [
    "for s in STOCK_NAMES:\n",
    "    for e in stock_each:\n",
    "        stock_tuples.append((s,e))"
   ]
  },
  {
   "cell_type": "code",
   "execution_count": 37,
   "metadata": {},
   "outputs": [],
   "source": [
    "index = pd.MultiIndex.from_tuples(stock_tuples)"
   ]
  },
  {
   "cell_type": "code",
   "execution_count": 39,
   "metadata": {},
   "outputs": [],
   "source": [
    "df.columns=index"
   ]
  },
  {
   "cell_type": "code",
   "execution_count": 164,
   "metadata": {},
   "outputs": [],
   "source": [
    "df = pd.read_hdf(NAME_HDF5,NAME_HDF5_ID)"
   ]
  },
  {
   "cell_type": "code",
   "execution_count": 80,
   "metadata": {},
   "outputs": [],
   "source": [
    "## Ref: https://stackoverflow.com/a/6520696\n",
    "def nan_helper(y):\n",
    "    \"\"\"Helper to handle indices and logical indices of NaNs.\n",
    "\n",
    "    Input:\n",
    "        - y, 1d numpy array with possible NaNs\n",
    "    Output:\n",
    "        - nans, logical indices of NaNs\n",
    "        - index, a function, with signature indices= index(logical_indices),\n",
    "          to convert logical indices of NaNs to 'equivalent' indices\n",
    "    Example:\n",
    "        >>> # linear interpolation of NaNs\n",
    "        >>> nans, x= nan_helper(y)\n",
    "        >>> y[nans]= np.interp(x(nans), x(~nans), y[~nans])\n",
    "    \"\"\"\n",
    "\n",
    "    return np.isnan(y), lambda z: z.nonzero()[0]"
   ]
  },
  {
   "cell_type": "code",
   "execution_count": 116,
   "metadata": {},
   "outputs": [],
   "source": [
    "## Use cubic spline to interpolate/extrapolate missing values\n",
    "def fill_na(y):\n",
    "    nans, x = nan_helper(y)\n",
    "    f = sp.interpolate.interp1d(x(~nans),y[~nans],\n",
    "                                kind='cubic',bounds_error=False,fill_value='extrapolate')\n",
    "    y[nans]= f(x(nans))\n",
    "    return y"
   ]
  },
  {
   "cell_type": "code",
   "execution_count": 158,
   "metadata": {},
   "outputs": [],
   "source": [
    "def deal_with_open_close(y,minimum=1e-3):\n",
    "    y = fill_na(y)\n",
    "    m = y<=0\n",
    "    if len(np.where(m)[0])>0:\n",
    "        print(y[m])\n",
    "        raise ValueError(\"Error in interpolation: produced nonpositive!!\")\n",
    "        print(\"Error in op/cl interpolation: produced nonpositive!!\")\n",
    "    y[m]=minimum\n",
    "    return y"
   ]
  },
  {
   "cell_type": "code",
   "execution_count": 159,
   "metadata": {},
   "outputs": [],
   "source": [
    "def deal_with_volume(y):\n",
    "    y = fill_na(y)\n",
    "    m = y<=0\n",
    "    if len(np.where(m)[0])>0:\n",
    "        print(y[m])\n",
    "        print(\"Error in volume interpolation: produced nonpositive!!\")\n",
    "    ## Set non-positive values to mean\n",
    "    y[m]=np.mean(y)\n",
    "    return y"
   ]
  },
  {
   "cell_type": "code",
   "execution_count": 160,
   "metadata": {},
   "outputs": [],
   "source": [
    "def deal_with_high_low(y,op,cl,ishigh,minimum=1e-3):\n",
    "    y = deal_with_open_close(y,minimum=minimum)\n",
    "    if ishigh:\n",
    "        y = np.maximum.reduce([y,op,cl])\n",
    "    else:\n",
    "        y = np.minimum.reduce([y,op,cl])\n",
    "    return y"
   ]
  },
  {
   "cell_type": "code",
   "execution_count": 165,
   "metadata": {},
   "outputs": [],
   "source": [
    "# open, high, low, close, volume\n",
    "def df_fill_na():\n",
    "    for i in range(50):\n",
    "        col = i*5\n",
    "        # first deal with open and close\n",
    "        try:\n",
    "            op = deal_with_open_close(df.iloc[:,col].values)\n",
    "            cl = deal_with_open_close(df.iloc[:,col+3].values)\n",
    "            # then deal with volume\n",
    "            vo = deal_with_volume(df.iloc[:,col+4].values)\n",
    "            # then deal with high and low\n",
    "            hi = deal_with_high_low(df.iloc[:,col+1].values,op,cl,True)\n",
    "            lo = deal_with_high_low(df.iloc[:,col+2].values,op,cl,False)\n",
    "        except ValueError as ve:\n",
    "            print(col)\n",
    "            raise ve\n",
    "        df.iloc[:,col] = op\n",
    "        df.iloc[:,col+1] = hi\n",
    "        df.iloc[:,col+2] = lo\n",
    "        df.iloc[:,col+3] = cl\n",
    "        df.iloc[:,col+4] = vo"
   ]
  },
  {
   "cell_type": "code",
   "execution_count": 166,
   "metadata": {},
   "outputs": [
    {
     "name": "stdout",
     "output_type": "stream",
     "text": [
      "[-213.92621137]\n",
      "Error in volume interpolation: produced nonpositive!!\n",
      "[0. 0.]\n",
      "Error in volume interpolation: produced nonpositive!!\n",
      "[0.]\n",
      "Error in volume interpolation: produced nonpositive!!\n",
      "[0.]\n",
      "Error in volume interpolation: produced nonpositive!!\n",
      "[0 0 0]\n",
      "Error in volume interpolation: produced nonpositive!!\n",
      "[-61967.4440437]\n",
      "Error in volume interpolation: produced nonpositive!!\n",
      "[-1789087.00053572]\n",
      "Error in volume interpolation: produced nonpositive!!\n",
      "[-1628.26772703]\n",
      "Error in volume interpolation: produced nonpositive!!\n",
      "[0.]\n",
      "Error in volume interpolation: produced nonpositive!!\n",
      "[-48771.87858439]\n",
      "Error in volume interpolation: produced nonpositive!!\n",
      "[0.]\n",
      "Error in volume interpolation: produced nonpositive!!\n",
      "[0.]\n",
      "Error in volume interpolation: produced nonpositive!!\n",
      "[0.]\n",
      "Error in volume interpolation: produced nonpositive!!\n",
      "[0. 0.]\n",
      "Error in volume interpolation: produced nonpositive!!\n",
      "[ -897.90790326 -2903.44845235 -1485.09416381 -1580.12039935\n",
      "   -25.7925413   -168.10904142]\n",
      "Error in volume interpolation: produced nonpositive!!\n",
      "[0. 0.]\n",
      "Error in volume interpolation: produced nonpositive!!\n",
      "[   0.            0.         -180.66916036]\n",
      "Error in volume interpolation: produced nonpositive!!\n",
      "[0. 0. 0.]\n",
      "Error in volume interpolation: produced nonpositive!!\n",
      "[    0.         -4313.11683873]\n",
      "Error in volume interpolation: produced nonpositive!!\n",
      "[0.]\n",
      "Error in volume interpolation: produced nonpositive!!\n",
      "[    0.          -114.51216685   -11.84152654 -1607.46908685\n",
      "  -598.68531355 -3026.37929673]\n",
      "Error in volume interpolation: produced nonpositive!!\n"
     ]
    }
   ],
   "source": [
    "df_fill_na()"
   ]
  },
  {
   "cell_type": "code",
   "execution_count": 173,
   "metadata": {},
   "outputs": [],
   "source": [
    "df.to_hdf(CLEAN_HDF5,CLEAN_HDF5_ID)"
   ]
  },
  {
   "cell_type": "code",
   "execution_count": 174,
   "metadata": {},
   "outputs": [],
   "source": [
    "df = pd.read_hdf(CLEAN_HDF5,CLEAN_HDF5_ID)"
   ]
  },
  {
   "cell_type": "code",
   "execution_count": 176,
   "metadata": {},
   "outputs": [
    {
     "data": {
      "text/plain": [
       "(array([], dtype=int64), array([], dtype=int64))"
      ]
     },
     "execution_count": 176,
     "metadata": {},
     "output_type": "execute_result"
    }
   ],
   "source": [
    "np.where(df<=0)"
   ]
  },
  {
   "cell_type": "code",
   "execution_count": 178,
   "metadata": {},
   "outputs": [
    {
     "data": {
      "text/plain": [
       "(array([], dtype=int64), array([], dtype=int64))"
      ]
     },
     "execution_count": 178,
     "metadata": {},
     "output_type": "execute_result"
    }
   ],
   "source": [
    "np.where(df.isna())"
   ]
  },
  {
   "cell_type": "code",
   "execution_count": null,
   "metadata": {},
   "outputs": [],
   "source": []
  }
 ],
 "metadata": {
  "kernelspec": {
   "display_name": "Python 3",
   "language": "python",
   "name": "python3"
  },
  "language_info": {
   "codemirror_mode": {
    "name": "ipython",
    "version": 3
   },
   "file_extension": ".py",
   "mimetype": "text/x-python",
   "name": "python",
   "nbconvert_exporter": "python",
   "pygments_lexer": "ipython3",
   "version": "3.5.2"
  }
 },
 "nbformat": 4,
 "nbformat_minor": 2
}
