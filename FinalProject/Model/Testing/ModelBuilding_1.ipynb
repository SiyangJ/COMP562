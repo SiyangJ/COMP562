{
 "cells": [
  {
   "cell_type": "code",
   "execution_count": 2,
   "metadata": {},
   "outputs": [],
   "source": [
    "import os\n",
    "import sys\n",
    "import matplotlib.pyplot as plt\n",
    "%matplotlib inline\n",
    "import pandas as pd\n",
    "import tensorflow as tf\n",
    "import numpy as np\n",
    "import scipy as sp\n",
    "import sklearn as sk\n",
    "\n",
    "from __future__ import absolute_import\n",
    "from __future__ import division\n",
    "from __future__ import print_function"
   ]
  },
  {
   "cell_type": "code",
   "execution_count": 3,
   "metadata": {},
   "outputs": [],
   "source": [
    "STOCK_NAMES = ['AAPL','MSFT','AMZN','GOOG','BRKB',\n",
    "              'FB','JNJ','JPM','XOM','V','WMT','BAC',\n",
    "              'UNH','PFE','WFC','VZ','PG','CVX','T',\n",
    "              'INTC','CSCO','HD','MA','KO','BA',\n",
    "              'MRK','ORCL','DIS','CMCSA','PEP','C',\n",
    "              'MCD','PM','DWDP','ABBV','NFLX','MDT',\n",
    "              'ABT','NVDA','AMGN','NKE','ADBE','MO','LLY',\n",
    "              'MMM','IBM','HON','UNP','ACN',\n",
    "              'UTX']\n",
    "\n",
    "PROJECT_PATH = '/pine/scr/s/i/siyangj/DeepStock/FinalProject/'\n",
    "DATA_PATH = os.path.join(PROJECT_PATH,'Data/')\n",
    "\n",
    "VOLUME_NORMALIZATION_ID = 'VOLUME_NORMALIZATION'\n",
    "\n",
    "DATA_XY = os.path.join(DATA_PATH,'XY_sequence.h5')\n",
    "X_ID = 'X'\n",
    "Y_ID = 'Y'\n",
    "\n",
    "NUM_DAYS = 5\n",
    "NUM_PER_DAY = 388\n",
    "NUM_STOCKS = 50\n",
    "NUM_PER_STOCK = 5"
   ]
  },
  {
   "cell_type": "code",
   "execution_count": 4,
   "metadata": {},
   "outputs": [
    {
     "data": {
      "text/plain": [
       "'/pine/scr/s/i/siyangj/DeepStock/FinalProject/Data/XY_sequence.h5'"
      ]
     },
     "execution_count": 4,
     "metadata": {},
     "output_type": "execute_result"
    }
   ],
   "source": [
    "DATA_XY"
   ]
  },
  {
   "cell_type": "code",
   "execution_count": 56,
   "metadata": {},
   "outputs": [],
   "source": [
    "#set FLAG and get data\n",
    "class BaseConfig(object):\n",
    "    seq_length=NUM_PER_DAY      #seq lenght\n",
    "    batch_size=NUM_DAYS-1      #batch_size\n",
    "    feature_num=NUM_STOCKS*NUM_PER_STOCK      #dim of a seq\n",
    "    y_size=NUM_STOCKS\n",
    "    lstm_size=64   #hidden layer units\n",
    "    lstm_layers=6\n",
    "    keep_prob=0.8\n",
    "    lr=0.0001        #learn rate\n",
    "    sep=0.8         #train and test sep\n",
    "    epoch_size=10000 #train number\n",
    "    save_path='./ckpt/'\n",
    "    \n",
    "config=BaseConfig()"
   ]
  },
  {
   "cell_type": "code",
   "execution_count": 9,
   "metadata": {
    "collapsed": true
   },
   "outputs": [],
   "source": [
    "data_X = pd.read_hdf(DATA_XY,X_ID).values\n",
    "data_Y = pd.read_hdf(DATA_XY,Y_ID).values"
   ]
  },
  {
   "cell_type": "code",
   "execution_count": 25,
   "metadata": {},
   "outputs": [
    {
     "data": {
      "text/plain": [
       "97"
      ]
     },
     "execution_count": 25,
     "metadata": {},
     "output_type": "execute_result"
    }
   ],
   "source": [
    "int(data_X.shape[0] / config.seq_length)"
   ]
  },
  {
   "cell_type": "code",
   "execution_count": 21,
   "metadata": {},
   "outputs": [
    {
     "data": {
      "text/plain": [
       "array([[1, 2, 3],\n",
       "       [4, 5, 6]])"
      ]
     },
     "execution_count": 21,
     "metadata": {},
     "output_type": "execute_result"
    }
   ],
   "source": [
    "a = np.array([[1,2,3],[4,5,6],[7,8,9],[10,11,12]])\n",
    "a.reshape([2,2,3])[0]"
   ]
  },
  {
   "cell_type": "code",
   "execution_count": 31,
   "metadata": {},
   "outputs": [],
   "source": [
    "def PrepareData(data_X,data_Y,config):\n",
    "    \n",
    "    X,y = [],[]\n",
    "    total_batch = int(data_X.shape[0] / config.seq_length)\n",
    "    for i in range(total_batch):\n",
    "        X.append(data_X[i*config.seq_length:(i+1)*config.seq_length,:])\n",
    "        y.append(data_Y[i*config.seq_length:(i+1)*config.seq_length,:])\n",
    "    \n",
    "    train_size=int(config.sep*len(X))\n",
    "    split_index=[1]*train_size\n",
    "    split_index.extend([0] * (len(X) - train_size))\n",
    "    np.random.shuffle(split_index)\n",
    "\n",
    "    #division all_data into train and test data\n",
    "    train_X,train_y,test_X,test_y=[],[],[],[]\n",
    "    for i,v in enumerate(split_index):\n",
    "        if v==0:\n",
    "            test_X.append(X[i])\n",
    "            test_y.append(y[i])\n",
    "        else:\n",
    "            train_X.append(X[i])\n",
    "            train_y.append(y[i])\n",
    "    train_X=np.array(train_X).astype('float32')\n",
    "    train_y=np.array(train_y).astype('float32')\n",
    "    test_X=np.array(test_X).astype('float32')\n",
    "    test_y=np.array(test_y).astype('float32')\n",
    "    return train_X,train_y,test_X,test_y"
   ]
  },
  {
   "cell_type": "code",
   "execution_count": 32,
   "metadata": {},
   "outputs": [],
   "source": [
    "train_X,train_y,test_X,test_y=PrepareData(data_X,data_Y,config)"
   ]
  },
  {
   "cell_type": "code",
   "execution_count": 54,
   "metadata": {},
   "outputs": [],
   "source": [
    "#general W\n",
    "def W_var(in_dim,out_dim):\n",
    "    return tf.Variable(tf.random_normal([in_dim,out_dim]),tf.float32)\n",
    "\n",
    "#general b\n",
    "def b_var(out_dim):\n",
    "    return tf.Variable(tf.random_normal([out_dim,]),tf.float32)\n",
    "\n",
    "#lstm : 64 lstm_size, 2 lstm_layer\n",
    "\n",
    "def lstm_cell(config,keep_prob):\n",
    "    temp=tf.contrib.rnn.BasicLSTMCell(config.lstm_size,reuse=False)\n",
    "    drop = tf.nn.rnn_cell.DropoutWrapper(temp, output_keep_prob=keep_prob)\n",
    "    return drop\n",
    "\n",
    "def lstm_layers(config,X,keep_prod):\n",
    "    #input\n",
    "    \n",
    "    stacked_lstm = tf.contrib.rnn.MultiRNNCell(\n",
    "    [lstm_cell(config,keep_prod) for _ in range(config.lstm_layers)])\n",
    "    initial_state = stacked_lstm.zero_state(config.batch_size, tf.float32)\n",
    "    \n",
    "    outputs, final_state = tf.nn.dynamic_rnn(stacked_lstm, X, \n",
    "          initial_state=initial_state)\n",
    "    return outputs,final_state\n",
    "        \n",
    "def output_layers(config,output_lstm):\n",
    "    in_size=output_lstm.get_shape()[-1].value\n",
    "    #output_lstm=output_lstm[:,-1,:]\n",
    "    output_lstm=tf.reshape(output_lstm,[-1,in_size])\n",
    "    W=W_var(in_size,config.y_size)\n",
    "    b=b_var(config.y_size)\n",
    "    ###################################\n",
    "    ## TODO\n",
    "    ## Should change to tf.nn.xw_plus_b\n",
    "    #output_final=tf.add(tf.matmul(output_lstm,W),b)\n",
    "    output_final=tf.nn.xw_plus_b(output_lstm,W,b)\n",
    "    output_final = tf.reshape(output_final,[config.batch_size,config.seq_length,config.y_size])\n",
    "    return output_final\n",
    "\n",
    "def loss_function(config,pred,Y):\n",
    "    \n",
    "    '''\n",
    "    Not for regression. Damn.\n",
    "    loss = tf.contrib.seq2seq.sequence_loss(\n",
    "        pred,\n",
    "        Y,\n",
    "        tf.ones([config.batch_size, config.seq_length]),\n",
    "        average_across_timesteps=True,\n",
    "        average_across_batch=True)\n",
    "    '''\n",
    "\n",
    "    # Update the cost\n",
    "    # cost = tf.reduce_sum(loss)\n",
    "    # print(pred.shape,Y.shape)\n",
    "    cost=tf.reduce_mean(tf.square(pred-Y))\n",
    "    return cost\n",
    "\n",
    "def optimizer_function(config,loss):\n",
    "    opt=tf.train.AdamOptimizer(config.lr).minimize(loss)\n",
    "    return opt\n",
    "\n",
    "\n",
    "class train_body:\n",
    "\n",
    "    def __init__(self):\n",
    "        self.X_placehold=tf.placeholder(tf.float32, [config.batch_size,config.seq_length,config.feature_num])\n",
    "        self.Y_placehold=tf.placeholder(tf.float32, [config.batch_size,config.seq_length,config.y_size])\n",
    "        self.keep_prod=tf.placeholder(tf.float32)\n",
    "        self.output_lstm,_=lstm_layers(config,self.X_placehold,self.keep_prod)\n",
    "\n",
    "        self.output_final=output_layers(config,self.output_lstm)\n",
    "\n",
    "        self.loss=loss_function(config,self.output_final,self.Y_placehold)\n",
    "\n",
    "        self.opt=optimizer_function(config,self.loss)\n",
    "\n",
    "        "
   ]
  },
  {
   "cell_type": "code",
   "execution_count": 60,
   "metadata": {},
   "outputs": [
    {
     "name": "stdout",
     "output_type": "stream",
     "text": [
      "std is:  0.0006764979\n",
      "ephoch: 0\n",
      "train loss is: 0.8965866565704346; test loss is: nan\n",
      "save model: ./ckpt/ckpt-0\n"
     ]
    },
    {
     "name": "stderr",
     "output_type": "stream",
     "text": [
      "/nas/longleaf/home/siyangj/.local/lib/python3.5/site-packages/ipykernel_launcher.py:40: RuntimeWarning: Mean of empty slice.\n",
      "/nas/longleaf/home/siyangj/.local/lib/python3.5/site-packages/numpy/core/_methods.py:85: RuntimeWarning: invalid value encountered in double_scalars\n",
      "  ret = ret.dtype.type(ret / rcount)\n"
     ]
    },
    {
     "name": "stdout",
     "output_type": "stream",
     "text": [
      "std is:  0.0006764979\n",
      "ephoch: 10\n",
      "train loss is: 0.819682776927948; test loss is: nan\n",
      "save model: ./ckpt/ckpt-10\n",
      "std is:  0.0006764979\n",
      "ephoch: 20\n",
      "train loss is: 0.7191542387008667; test loss is: nan\n",
      "save model: ./ckpt/ckpt-20\n",
      "std is:  0.0006764979\n",
      "ephoch: 30\n",
      "train loss is: 0.6048129200935364; test loss is: nan\n",
      "save model: ./ckpt/ckpt-30\n",
      "std is:  0.0006764979\n",
      "ephoch: 40\n",
      "train loss is: 0.5039969682693481; test loss is: nan\n",
      "save model: ./ckpt/ckpt-40\n",
      "std is:  0.0006764979\n",
      "ephoch: 50\n",
      "train loss is: 0.4146208167076111; test loss is: nan\n",
      "save model: ./ckpt/ckpt-50\n",
      "std is:  0.0006764979\n",
      "ephoch: 60\n",
      "train loss is: 0.3547157347202301; test loss is: nan\n",
      "save model: ./ckpt/ckpt-60\n",
      "std is:  0.0006764979\n",
      "ephoch: 70\n",
      "train loss is: 0.3207405209541321; test loss is: nan\n",
      "save model: ./ckpt/ckpt-70\n",
      "std is:  0.0006764979\n",
      "ephoch: 80\n",
      "train loss is: 0.3050563335418701; test loss is: nan\n",
      "save model: ./ckpt/ckpt-80\n"
     ]
    },
    {
     "ename": "KeyboardInterrupt",
     "evalue": "",
     "output_type": "error",
     "traceback": [
      "\u001b[0;31m---------------------------------------------------------------------------\u001b[0m",
      "\u001b[0;31mKeyboardInterrupt\u001b[0m                         Traceback (most recent call last)",
      "\u001b[0;32m<ipython-input-60-d0e288ac5f11>\u001b[0m in \u001b[0;36m<module>\u001b[0;34m()\u001b[0m\n\u001b[1;32m     41\u001b[0m                 \u001b[0;31m#print('ephoch: '+ str(e)+'\\ntrain loss is: '+str(loss_values1.mean()))\u001b[0m\u001b[0;34m\u001b[0m\u001b[0;34m\u001b[0m\u001b[0m\n\u001b[1;32m     42\u001b[0m                 \u001b[0mprint\u001b[0m \u001b[0;34m(\u001b[0m\u001b[0;34m\"save model:\"\u001b[0m\u001b[0;34m,\u001b[0m\u001b[0msaver\u001b[0m\u001b[0;34m.\u001b[0m\u001b[0msave\u001b[0m\u001b[0;34m(\u001b[0m\u001b[0msess\u001b[0m\u001b[0;34m,\u001b[0m\u001b[0mconfig\u001b[0m\u001b[0;34m.\u001b[0m\u001b[0msave_path\u001b[0m\u001b[0;34m+\u001b[0m\u001b[0;34m'ckpt-{:d}'\u001b[0m\u001b[0;34m.\u001b[0m\u001b[0mformat\u001b[0m\u001b[0;34m(\u001b[0m\u001b[0me\u001b[0m\u001b[0;34m)\u001b[0m\u001b[0;34m)\u001b[0m\u001b[0;34m)\u001b[0m\u001b[0;34m\u001b[0m\u001b[0m\n\u001b[0;32m---> 43\u001b[0;31m \u001b[0mmyrun\u001b[0m\u001b[0;34m(\u001b[0m\u001b[0;34m)\u001b[0m\u001b[0;34m\u001b[0m\u001b[0m\n\u001b[0m",
      "\u001b[0;32m<ipython-input-60-d0e288ac5f11>\u001b[0m in \u001b[0;36mmyrun\u001b[0;34m()\u001b[0m\n\u001b[1;32m     21\u001b[0m                 tmp_loss_value,_=sess.run([tb.loss,tb.opt],feed_dict={tb.X_placehold:tempx,\n\u001b[1;32m     22\u001b[0m                                                                       \u001b[0mtb\u001b[0m\u001b[0;34m.\u001b[0m\u001b[0mY_placehold\u001b[0m\u001b[0;34m:\u001b[0m\u001b[0mtempy\u001b[0m\u001b[0;34m,\u001b[0m\u001b[0;34m\u001b[0m\u001b[0m\n\u001b[0;32m---> 23\u001b[0;31m                                                                       tb.keep_prod:config.keep_prob})\n\u001b[0m\u001b[1;32m     24\u001b[0m                 \u001b[0mloss_values1\u001b[0m\u001b[0;34m=\u001b[0m\u001b[0mnp\u001b[0m\u001b[0;34m.\u001b[0m\u001b[0mappend\u001b[0m\u001b[0;34m(\u001b[0m\u001b[0mloss_values1\u001b[0m\u001b[0;34m,\u001b[0m\u001b[0mtmp_loss_value\u001b[0m\u001b[0;34m)\u001b[0m\u001b[0;34m\u001b[0m\u001b[0m\n\u001b[1;32m     25\u001b[0m \u001b[0;34m\u001b[0m\u001b[0m\n",
      "\u001b[0;32m/usr/local/lib/python3.5/dist-packages/tensorflow/python/client/session.py\u001b[0m in \u001b[0;36mrun\u001b[0;34m(self, fetches, feed_dict, options, run_metadata)\u001b[0m\n\u001b[1;32m    898\u001b[0m     \u001b[0;32mtry\u001b[0m\u001b[0;34m:\u001b[0m\u001b[0;34m\u001b[0m\u001b[0m\n\u001b[1;32m    899\u001b[0m       result = self._run(None, fetches, feed_dict, options_ptr,\n\u001b[0;32m--> 900\u001b[0;31m                          run_metadata_ptr)\n\u001b[0m\u001b[1;32m    901\u001b[0m       \u001b[0;32mif\u001b[0m \u001b[0mrun_metadata\u001b[0m\u001b[0;34m:\u001b[0m\u001b[0;34m\u001b[0m\u001b[0m\n\u001b[1;32m    902\u001b[0m         \u001b[0mproto_data\u001b[0m \u001b[0;34m=\u001b[0m \u001b[0mtf_session\u001b[0m\u001b[0;34m.\u001b[0m\u001b[0mTF_GetBuffer\u001b[0m\u001b[0;34m(\u001b[0m\u001b[0mrun_metadata_ptr\u001b[0m\u001b[0;34m)\u001b[0m\u001b[0;34m\u001b[0m\u001b[0m\n",
      "\u001b[0;32m/usr/local/lib/python3.5/dist-packages/tensorflow/python/client/session.py\u001b[0m in \u001b[0;36m_run\u001b[0;34m(self, handle, fetches, feed_dict, options, run_metadata)\u001b[0m\n\u001b[1;32m   1133\u001b[0m     \u001b[0;32mif\u001b[0m \u001b[0mfinal_fetches\u001b[0m \u001b[0;32mor\u001b[0m \u001b[0mfinal_targets\u001b[0m \u001b[0;32mor\u001b[0m \u001b[0;34m(\u001b[0m\u001b[0mhandle\u001b[0m \u001b[0;32mand\u001b[0m \u001b[0mfeed_dict_tensor\u001b[0m\u001b[0;34m)\u001b[0m\u001b[0;34m:\u001b[0m\u001b[0;34m\u001b[0m\u001b[0m\n\u001b[1;32m   1134\u001b[0m       results = self._do_run(handle, final_targets, final_fetches,\n\u001b[0;32m-> 1135\u001b[0;31m                              feed_dict_tensor, options, run_metadata)\n\u001b[0m\u001b[1;32m   1136\u001b[0m     \u001b[0;32melse\u001b[0m\u001b[0;34m:\u001b[0m\u001b[0;34m\u001b[0m\u001b[0m\n\u001b[1;32m   1137\u001b[0m       \u001b[0mresults\u001b[0m \u001b[0;34m=\u001b[0m \u001b[0;34m[\u001b[0m\u001b[0;34m]\u001b[0m\u001b[0;34m\u001b[0m\u001b[0m\n",
      "\u001b[0;32m/usr/local/lib/python3.5/dist-packages/tensorflow/python/client/session.py\u001b[0m in \u001b[0;36m_do_run\u001b[0;34m(self, handle, target_list, fetch_list, feed_dict, options, run_metadata)\u001b[0m\n\u001b[1;32m   1314\u001b[0m     \u001b[0;32mif\u001b[0m \u001b[0mhandle\u001b[0m \u001b[0;32mis\u001b[0m \u001b[0;32mNone\u001b[0m\u001b[0;34m:\u001b[0m\u001b[0;34m\u001b[0m\u001b[0m\n\u001b[1;32m   1315\u001b[0m       return self._do_call(_run_fn, feeds, fetches, targets, options,\n\u001b[0;32m-> 1316\u001b[0;31m                            run_metadata)\n\u001b[0m\u001b[1;32m   1317\u001b[0m     \u001b[0;32melse\u001b[0m\u001b[0;34m:\u001b[0m\u001b[0;34m\u001b[0m\u001b[0m\n\u001b[1;32m   1318\u001b[0m       \u001b[0;32mreturn\u001b[0m \u001b[0mself\u001b[0m\u001b[0;34m.\u001b[0m\u001b[0m_do_call\u001b[0m\u001b[0;34m(\u001b[0m\u001b[0m_prun_fn\u001b[0m\u001b[0;34m,\u001b[0m \u001b[0mhandle\u001b[0m\u001b[0;34m,\u001b[0m \u001b[0mfeeds\u001b[0m\u001b[0;34m,\u001b[0m \u001b[0mfetches\u001b[0m\u001b[0;34m)\u001b[0m\u001b[0;34m\u001b[0m\u001b[0m\n",
      "\u001b[0;32m/usr/local/lib/python3.5/dist-packages/tensorflow/python/client/session.py\u001b[0m in \u001b[0;36m_do_call\u001b[0;34m(self, fn, *args)\u001b[0m\n\u001b[1;32m   1320\u001b[0m   \u001b[0;32mdef\u001b[0m \u001b[0m_do_call\u001b[0m\u001b[0;34m(\u001b[0m\u001b[0mself\u001b[0m\u001b[0;34m,\u001b[0m \u001b[0mfn\u001b[0m\u001b[0;34m,\u001b[0m \u001b[0;34m*\u001b[0m\u001b[0margs\u001b[0m\u001b[0;34m)\u001b[0m\u001b[0;34m:\u001b[0m\u001b[0;34m\u001b[0m\u001b[0m\n\u001b[1;32m   1321\u001b[0m     \u001b[0;32mtry\u001b[0m\u001b[0;34m:\u001b[0m\u001b[0;34m\u001b[0m\u001b[0m\n\u001b[0;32m-> 1322\u001b[0;31m       \u001b[0;32mreturn\u001b[0m \u001b[0mfn\u001b[0m\u001b[0;34m(\u001b[0m\u001b[0;34m*\u001b[0m\u001b[0margs\u001b[0m\u001b[0;34m)\u001b[0m\u001b[0;34m\u001b[0m\u001b[0m\n\u001b[0m\u001b[1;32m   1323\u001b[0m     \u001b[0;32mexcept\u001b[0m \u001b[0merrors\u001b[0m\u001b[0;34m.\u001b[0m\u001b[0mOpError\u001b[0m \u001b[0;32mas\u001b[0m \u001b[0me\u001b[0m\u001b[0;34m:\u001b[0m\u001b[0;34m\u001b[0m\u001b[0m\n\u001b[1;32m   1324\u001b[0m       \u001b[0mmessage\u001b[0m \u001b[0;34m=\u001b[0m \u001b[0mcompat\u001b[0m\u001b[0;34m.\u001b[0m\u001b[0mas_text\u001b[0m\u001b[0;34m(\u001b[0m\u001b[0me\u001b[0m\u001b[0;34m.\u001b[0m\u001b[0mmessage\u001b[0m\u001b[0;34m)\u001b[0m\u001b[0;34m\u001b[0m\u001b[0m\n",
      "\u001b[0;32m/usr/local/lib/python3.5/dist-packages/tensorflow/python/client/session.py\u001b[0m in \u001b[0;36m_run_fn\u001b[0;34m(feed_dict, fetch_list, target_list, options, run_metadata)\u001b[0m\n\u001b[1;32m   1305\u001b[0m       \u001b[0mself\u001b[0m\u001b[0;34m.\u001b[0m\u001b[0m_extend_graph\u001b[0m\u001b[0;34m(\u001b[0m\u001b[0;34m)\u001b[0m\u001b[0;34m\u001b[0m\u001b[0m\n\u001b[1;32m   1306\u001b[0m       return self._call_tf_sessionrun(\n\u001b[0;32m-> 1307\u001b[0;31m           options, feed_dict, fetch_list, target_list, run_metadata)\n\u001b[0m\u001b[1;32m   1308\u001b[0m \u001b[0;34m\u001b[0m\u001b[0m\n\u001b[1;32m   1309\u001b[0m     \u001b[0;32mdef\u001b[0m \u001b[0m_prun_fn\u001b[0m\u001b[0;34m(\u001b[0m\u001b[0mhandle\u001b[0m\u001b[0;34m,\u001b[0m \u001b[0mfeed_dict\u001b[0m\u001b[0;34m,\u001b[0m \u001b[0mfetch_list\u001b[0m\u001b[0;34m)\u001b[0m\u001b[0;34m:\u001b[0m\u001b[0;34m\u001b[0m\u001b[0m\n",
      "\u001b[0;32m/usr/local/lib/python3.5/dist-packages/tensorflow/python/client/session.py\u001b[0m in \u001b[0;36m_call_tf_sessionrun\u001b[0;34m(self, options, feed_dict, fetch_list, target_list, run_metadata)\u001b[0m\n\u001b[1;32m   1407\u001b[0m       return tf_session.TF_SessionRun_wrapper(\n\u001b[1;32m   1408\u001b[0m           \u001b[0mself\u001b[0m\u001b[0;34m.\u001b[0m\u001b[0m_session\u001b[0m\u001b[0;34m,\u001b[0m \u001b[0moptions\u001b[0m\u001b[0;34m,\u001b[0m \u001b[0mfeed_dict\u001b[0m\u001b[0;34m,\u001b[0m \u001b[0mfetch_list\u001b[0m\u001b[0;34m,\u001b[0m \u001b[0mtarget_list\u001b[0m\u001b[0;34m,\u001b[0m\u001b[0;34m\u001b[0m\u001b[0m\n\u001b[0;32m-> 1409\u001b[0;31m           run_metadata)\n\u001b[0m\u001b[1;32m   1410\u001b[0m     \u001b[0;32melse\u001b[0m\u001b[0;34m:\u001b[0m\u001b[0;34m\u001b[0m\u001b[0m\n\u001b[1;32m   1411\u001b[0m       \u001b[0;32mwith\u001b[0m \u001b[0merrors\u001b[0m\u001b[0;34m.\u001b[0m\u001b[0mraise_exception_on_not_ok_status\u001b[0m\u001b[0;34m(\u001b[0m\u001b[0;34m)\u001b[0m \u001b[0;32mas\u001b[0m \u001b[0mstatus\u001b[0m\u001b[0;34m:\u001b[0m\u001b[0;34m\u001b[0m\u001b[0m\n",
      "\u001b[0;31mKeyboardInterrupt\u001b[0m: "
     ]
    }
   ],
   "source": [
    "def myrun():\n",
    "    \n",
    "    tb=train_body()\n",
    "\n",
    "    #save model\n",
    "\n",
    "    saver=tf.train.Saver(tf.global_variables())\n",
    "    with tf.Session() as sess:\n",
    "        \n",
    "        tf.global_variables_initializer().run()\n",
    "        \n",
    "        range(int(len(train_X)/config.batch_size))\n",
    "\n",
    "        for e in range(config.epoch_size):\n",
    "            loss_values1=np.array([])\n",
    "            for i in range(int(len(train_X)/config.batch_size)):\n",
    "                \n",
    "                tempx=train_X[i*config.batch_size:i*config.batch_size+config.batch_size]\n",
    "                tempy=train_y[i*config.batch_size:i*config.batch_size+config.batch_size]\n",
    "                #print(tempx)\n",
    "                tmp_loss_value,_=sess.run([tb.loss,tb.opt],feed_dict={tb.X_placehold:tempx,\n",
    "                                                                      tb.Y_placehold:tempy,\n",
    "                                                                      tb.keep_prod:config.keep_prob})\n",
    "                loss_values1=np.append(loss_values1,tmp_loss_value)\n",
    "                \n",
    "            if e%10==0:\n",
    "                loss_values2=np.array([])\n",
    "                for i in range(int(len(test_X)/config.batch_size)):\n",
    "\n",
    "                    tempx=test_X[i*config.batch_size:i*config.batch_size+config.batch_size]\n",
    "                    tempy=test_y[i*config.batch_size:i*config.batch_size+config.batch_size]\n",
    "                    #print(tempx)\n",
    "                    tmp_loss_value=sess.run([tb.loss],feed_dict={tb.X_placehold:tempx,\n",
    "                                                                 tb.Y_placehold:tempy,\n",
    "                                                                 tb.keep_prod:1})\n",
    "                    loss_values2=np.append(loss_values2,tmp_loss_value)\n",
    "               \n",
    "                print('std is: ',train_y.std())\n",
    "                print('ephoch: '+ str(e)+'\\ntrain loss is: '+str(loss_values1.mean())\n",
    "                      +'; test loss is: ' + str(loss_values2.mean()))\n",
    "                #print('ephoch: '+ str(e)+'\\ntrain loss is: '+str(loss_values1.mean()))\n",
    "                print (\"save model:\",saver.save(sess,config.save_path+'ckpt-{:d}'.format(e)))\n",
    "myrun()"
   ]
  },
  {
   "cell_type": "code",
   "execution_count": 59,
   "metadata": {},
   "outputs": [],
   "source": [
    "tf.reset_default_graph()"
   ]
  },
  {
   "cell_type": "code",
   "execution_count": null,
   "metadata": {},
   "outputs": [],
   "source": []
  }
 ],
 "metadata": {
  "kernelspec": {
   "display_name": "Python 3",
   "language": "python",
   "name": "python3"
  },
  "language_info": {
   "codemirror_mode": {
    "name": "ipython",
    "version": 3
   },
   "file_extension": ".py",
   "mimetype": "text/x-python",
   "name": "python",
   "nbconvert_exporter": "python",
   "pygments_lexer": "ipython3",
   "version": "3.5.2"
  }
 },
 "nbformat": 4,
 "nbformat_minor": 2
}
