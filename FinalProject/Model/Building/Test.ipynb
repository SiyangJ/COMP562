{
 "cells": [
  {
   "cell_type": "code",
   "execution_count": 14,
   "metadata": {},
   "outputs": [],
   "source": [
    "import os\n",
    "import sys\n",
    "import matplotlib.pyplot as plt\n",
    "%matplotlib inline\n",
    "import pandas as pd\n",
    "import tensorflow as tf\n",
    "import numpy as np\n",
    "import scipy as sp\n",
    "import sklearn as sk\n",
    "import importlib"
   ]
  },
  {
   "cell_type": "code",
   "execution_count": 5,
   "metadata": {},
   "outputs": [],
   "source": [
    "sys.argv=['/usr/bin/python',]"
   ]
  },
  {
   "cell_type": "code",
   "execution_count": 9,
   "metadata": {},
   "outputs": [],
   "source": [
    "import model"
   ]
  },
  {
   "cell_type": "code",
   "execution_count": 23,
   "metadata": {},
   "outputs": [],
   "source": [
    "importlib.reload(model)\n",
    "tf.reset_default_graph()"
   ]
  },
  {
   "cell_type": "code",
   "execution_count": 24,
   "metadata": {},
   "outputs": [],
   "source": [
    "(X_variable, Y_variable,\n",
    "            pred, loss, final_loss,\n",
    "            gene_vars)=model.create_model()"
   ]
  },
  {
   "cell_type": "code",
   "execution_count": 26,
   "metadata": {},
   "outputs": [
    {
     "data": {
      "text/plain": [
       "[<tf.Variable 'lstm_layers/rnn/multi_rnn_cell/cell_0/basic_lstm_cell/kernel:0' shape=(2940, 4000) dtype=float32_ref>,\n",
       " <tf.Variable 'lstm_layers/rnn/multi_rnn_cell/cell_0/basic_lstm_cell/bias:0' shape=(4000,) dtype=float32_ref>,\n",
       " <tf.Variable 'lstm_layers/rnn/multi_rnn_cell/cell_1/basic_lstm_cell/kernel:0' shape=(2000, 4000) dtype=float32_ref>,\n",
       " <tf.Variable 'lstm_layers/rnn/multi_rnn_cell/cell_1/basic_lstm_cell/bias:0' shape=(4000,) dtype=float32_ref>,\n",
       " <tf.Variable 'lstm_layers/rnn/multi_rnn_cell/cell_2/basic_lstm_cell/kernel:0' shape=(2000, 4000) dtype=float32_ref>,\n",
       " <tf.Variable 'lstm_layers/rnn/multi_rnn_cell/cell_2/basic_lstm_cell/bias:0' shape=(4000,) dtype=float32_ref>,\n",
       " <tf.Variable 'lstm_layers/rnn/multi_rnn_cell/cell_3/basic_lstm_cell/kernel:0' shape=(2000, 4000) dtype=float32_ref>,\n",
       " <tf.Variable 'lstm_layers/rnn/multi_rnn_cell/cell_3/basic_lstm_cell/bias:0' shape=(4000,) dtype=float32_ref>,\n",
       " <tf.Variable 'lstm_layers/rnn/multi_rnn_cell/cell_4/basic_lstm_cell/kernel:0' shape=(2000, 4000) dtype=float32_ref>,\n",
       " <tf.Variable 'lstm_layers/rnn/multi_rnn_cell/cell_4/basic_lstm_cell/bias:0' shape=(4000,) dtype=float32_ref>,\n",
       " <tf.Variable 'lstm_layers/rnn/multi_rnn_cell/cell_5/basic_lstm_cell/kernel:0' shape=(2000, 4000) dtype=float32_ref>,\n",
       " <tf.Variable 'lstm_layers/rnn/multi_rnn_cell/cell_5/basic_lstm_cell/bias:0' shape=(4000,) dtype=float32_ref>,\n",
       " <tf.Variable 'output_layer/weights:0' shape=(1000, 50) dtype=float32_ref>,\n",
       " <tf.Variable 'output_layer/biases:0' shape=(50,) dtype=float32_ref>]"
      ]
     },
     "execution_count": 26,
     "metadata": {},
     "output_type": "execute_result"
    }
   ],
   "source": [
    "tf.trainable_variables()"
   ]
  },
  {
   "cell_type": "code",
   "execution_count": 27,
   "metadata": {},
   "outputs": [],
   "source": [
    "train_minimize, learning_rate, global_step = model.create_optimizers(final_loss)"
   ]
  },
  {
   "cell_type": "code",
   "execution_count": 30,
   "metadata": {},
   "outputs": [
    {
     "data": {
      "text/plain": [
       "<tf.Variable 'global_step:0' shape=() dtype=int64_ref>"
      ]
     },
     "execution_count": 30,
     "metadata": {},
     "output_type": "execute_result"
    }
   ],
   "source": []
  },
  {
   "cell_type": "code",
   "execution_count": null,
   "metadata": {},
   "outputs": [],
   "source": []
  }
 ],
 "metadata": {
  "kernelspec": {
   "display_name": "Python 3",
   "language": "python",
   "name": "python3"
  },
  "language_info": {
   "codemirror_mode": {
    "name": "ipython",
    "version": 3
   },
   "file_extension": ".py",
   "mimetype": "text/x-python",
   "name": "python",
   "nbconvert_exporter": "python",
   "pygments_lexer": "ipython3",
   "version": "3.5.2"
  }
 },
 "nbformat": 4,
 "nbformat_minor": 2
}
