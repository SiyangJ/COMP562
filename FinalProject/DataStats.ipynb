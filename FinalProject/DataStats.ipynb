{
 "cells": [
  {
   "cell_type": "code",
   "execution_count": 2,
   "metadata": {},
   "outputs": [],
   "source": [
    "import os\n",
    "import matplotlib.pyplot as plt\n",
    "%matplotlib inline\n",
    "import pandas as pd\n",
    "import tensorflow as tf\n",
    "import numpy as np\n",
    "import scipy as sp\n",
    "import sklearn as sk\n",
    "\n",
    "from pandas.plotting import autocorrelation_plot\n",
    "import statsmodels.formula.api as smf\n",
    "import statsmodels.tsa.api as smt\n",
    "import statsmodels.api as sm\n",
    "import scipy.stats as scs\n",
    "from arch import arch_model"
   ]
  },
  {
   "cell_type": "code",
   "execution_count": 4,
   "metadata": {},
   "outputs": [],
   "source": [
    "STOCK_NAMES = ['AAPL','MSFT','AMZN','GOOG','BRKB',\n",
    "              'FB','JNJ','JPM','XOM','V','WMT','BAC',\n",
    "              'UNH','PFE','WFC','VZ','PG','CVX','T',\n",
    "              'INTC','CSCO','HD','MA','KO','BA',\n",
    "              'MRK','ORCL','DIS','CMCSA','PEP','C',\n",
    "              'MCD','PM','DWDP','ABBV','NFLX','MDT',\n",
    "              'ABT','NVDA','AMGN','NKE','ADBE','MO','LLY',\n",
    "              'MMM','IBM','HON','UNP','ACN',\n",
    "              'UTX']\n",
    "\n",
    "PROJECT_PATH = '/pine/scr/s/i/siyangj/DeepStock/FinalProject/'\n",
    "DATA_PATH = os.path.join(PROJECT_PATH,'Data/')\n",
    "\n",
    "VOLUME_NORMALIZATION_ID = 'VOLUME_NORMALIZATION'\n",
    "\n",
    "DATA = os.path.join(DATA_PATH,'clean.h5')\n",
    "DATA_ID = 'CLEAN_DATA'\n",
    "\n",
    "NUM_DAYS = 5\n",
    "NUM_PER_DAY = 389\n",
    "NUM_STOCKS = 50\n",
    "NUM_PER_STOCK = 5"
   ]
  },
  {
   "cell_type": "code",
   "execution_count": null,
   "metadata": {},
   "outputs": [],
   "source": []
  }
 ],
 "metadata": {
  "kernelspec": {
   "display_name": "Python 3",
   "language": "python",
   "name": "python3"
  },
  "language_info": {
   "codemirror_mode": {
    "name": "ipython",
    "version": 3
   },
   "file_extension": ".py",
   "mimetype": "text/x-python",
   "name": "python",
   "nbconvert_exporter": "python",
   "pygments_lexer": "ipython3",
   "version": "3.5.2"
  }
 },
 "nbformat": 4,
 "nbformat_minor": 2
}
