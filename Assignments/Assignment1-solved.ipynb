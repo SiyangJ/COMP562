{
 "cells": [
  {
   "cell_type": "markdown",
   "metadata": {},
   "source": [
    "# <center> COMP 562 : Inroduction to Machine Learning<font color='red'> -- Assigment 1 Solution</font>  </center> \n",
    "## <center> Sentiment Analysis on IMDB Movie Reviews Using Logistic Regression </center>"
   ]
  },
  {
   "cell_type": "code",
   "execution_count": 1,
   "metadata": {},
   "outputs": [],
   "source": [
    "import numpy as np"
   ]
  },
  {
   "cell_type": "code",
   "execution_count": 1,
   "metadata": {
    "collapsed": true
   },
   "outputs": [],
   "source": [
    "%matplotlib inline\n",
    "\n",
    "import matplotlib\n",
    "import matplotlib.pyplot as plt"
   ]
  },
  {
   "cell_type": "code",
   "execution_count": 111,
   "metadata": {},
   "outputs": [
    {
     "name": "stdout",
     "output_type": "stream",
     "text": [
      "Should take at most 30 seconds\n",
      "('Time elapsed (seconds):', 7.4720001220703125)\n"
     ]
    }
   ],
   "source": [
    "#download data\n",
    "import time\n",
    "import urllib\n",
    "import os.path\n",
    "import sys\n",
    "versionName = sys.version_info\n",
    "if versionName[0] == 2:\n",
    "    import urllib as U\n",
    "elif versionName[0] == 3:\n",
    "    import urllib.request as U\n",
    "start = time.time()\n",
    "print(\"Should take at most 30 seconds\")\n",
    "if not os.path.isfile('train_data.pgz'):\n",
    "    U.urlretrieve(\"https://cs.unc.edu/~ycharn/comp562/hw1/train_data.pgz\", \"train_data.pgz\")\n",
    "if not os.path.isfile('test_data.pgz'):\n",
    "    U.urlretrieve(\"https://cs.unc.edu/~ycharn/comp562/hw1/test_data.pgz\", \"test_data.pgz\")\n",
    "if not os.path.isfile('vocab_list.pgz'):\n",
    "    U.urlretrieve( \"https://cs.unc.edu/~ycharn/comp562/hw1/vocab_list.pgz\", \"vocab_list.pgz\" );\n",
    "end = time.time()\n",
    "print(\"Time elapsed (seconds):\", end-start)"
   ]
  },
  {
   "cell_type": "code",
   "execution_count": 112,
   "metadata": {},
   "outputs": [
    {
     "name": "stdout",
     "output_type": "stream",
     "text": [
      "Should take about 15 seconds\n",
      "('Time elapsed (seconds):', 18.56599998474121)\n"
     ]
    }
   ],
   "source": [
    "#load data\n",
    "try:\n",
    "    import cPickle as pickle\n",
    "    kwargs = {}\n",
    "except:\n",
    "    import _pickle as pickle\n",
    "    kwargs = {'encoding':'bytes'}\n",
    "    \n",
    "import gzip\n",
    "import numpy as np\n",
    "start = time.time()\n",
    "print(\"Should take about 15 seconds\")\n",
    "train_data, train_label = pickle.load( gzip.open( \"train_data.pgz\", \"rb\" ), **kwargs )\n",
    "train_label = np.asarray(train_label)\n",
    "test_data = pickle.load( gzip.open( \"test_data.pgz\", \"rb\" ),**kwargs )\n",
    "vocab_list = pickle.load( gzip.open( \"vocab_list.pgz\", \"rb\" ),**kwargs )\n",
    "end = time.time()\n",
    "print(\"Time elapsed (seconds):\", end-start)"
   ]
  },
  {
   "cell_type": "code",
   "execution_count": 113,
   "metadata": {
    "scrolled": true
   },
   "outputs": [],
   "source": [
    "#Consider using small set of the data\n",
    "trainData = train_data[:10000, :]\n",
    "validData = train_data[10000:15000, :]\n",
    "trainLabel = train_label[:10000]\n",
    "validLabel = train_label[10000:15000]\n",
    "testData = test_data[:10000, :]\n"
   ]
  },
  {
   "cell_type": "code",
   "execution_count": 114,
   "metadata": {},
   "outputs": [],
   "source": [
    "import numpy as np\n",
    "#We help you do the concatenate, so the first feature becomes the  bias term\n",
    "train_data_pad = np.concatenate( ( np.ones((trainData.shape[0], 1)), trainData ), axis = 1 )\n",
    "test_data_pad = np.concatenate( ( np.ones((testData.shape[0], 1)), testData ), axis = 1 )\n",
    "valid_data_pad = np.concatenate( ( np.ones((validData.shape[0], 1)), validData ), axis = 1 )"
   ]
  },
  {
   "cell_type": "markdown",
   "metadata": {},
   "source": [
    "## To-do: \n",
    "1. Given the data $D = {(\\mathbf{x}_i, y_i)} $, write down the likelihood function ($L(\\mathbf{w})$) of logistic regression. **[1 pt]**\n",
    "2. Take $\\log$ of the likelihood function in (1), write down the log likelihood function. Hint: $\\log$ will not cancel $\\exp$. **[1 pt]**\n",
    "3. Add  ridge penalty in the log likelihood function (Let the weight of ridge penalty be $\\alpha$). Hint: Do not include $w_0$ in the ridge term. **[1 pt]**\n",
    "4. Write a function to compute regularized log likelihood **[1 pt]**"
   ]
  },
  {
   "cell_type": "markdown",
   "metadata": {},
   "source": [
    "1. $ L(\\mathbf{w}) = \\prod_{i=1}^N p(y_i|\\mathbf{x}_i, \\mathbf{w}, b) = \\prod_{i=1}^N\\frac{1}{1+exp\\{-y_i(\\mathbf{w} \\cdot \\mathbf{x}_i + b)\\}} $\n",
    "2. $ LL(\\mathbf{w}) = -\\sum_i \\log\\{1+exp\\{-y_i(\\mathbf{w} \\cdot \\mathbf{x}_i + b)\\} $\n",
    "3. $ PLL(\\mathbf{w}) = -\\sum_i \\log\\{1+exp\\{-y_i(\\mathbf{w} \\cdot \\mathbf{x}_i + b)\\ - \\frac{\\alpha}{2}\\sum_{j=1}^{p} w_j^2 $"
   ]
  },
  {
   "cell_type": "code",
   "execution_count": 115,
   "metadata": {
    "collapsed": true
   },
   "outputs": [],
   "source": [
    "import numpy as np\n",
    "def loglikelihood(w, X, y, alpha): \n",
    "    #compute loglikelihood for current w, b, given the data X, y\n",
    "    #w is a vector, b is a scalr, X is a n*p matrix and y is a vector.\n",
    "    tmp = 1. + np.exp( -y*(np.dot(X,w)))\n",
    "    return -np.sum( np.log(tmp) ) - (alpha/2.)*np.sum( w[1:]**2. )"
   ]
  },
  {
   "cell_type": "code",
   "execution_count": 116,
   "metadata": {},
   "outputs": [
    {
     "data": {
      "text/plain": [
       "-1.1808712118395306"
      ]
     },
     "execution_count": 116,
     "metadata": {},
     "output_type": "execute_result"
    }
   ],
   "source": [
    "# testing\n",
    "np.random.seed(1)\n",
    "X = np.random.randn(2,3)\n",
    "y = np.array([1,-1])\n",
    "w = np.ones(3)\n",
    "w[[1]] = -1;\n",
    "loglikelihood(w, X, y, 1)\n"
   ]
  },
  {
   "cell_type": "code",
   "execution_count": 117,
   "metadata": {},
   "outputs": [
    {
     "name": "stdout",
     "output_type": "stream",
     "text": [
      "-1.18087121184\n"
     ]
    }
   ],
   "source": [
    "#the values printed in this cell should be the same as the value printed in the previous cell.\n",
    "print( -np.log(1+np.exp(-1*(X[0,0]-X[0,1]+X[0,2]))) - np.log(1+np.exp(1*(X[1,0]-X[1,1]+X[1,2]))) -1/2.*np.sum(w[1:]**2) )"
   ]
  },
  {
   "cell_type": "markdown",
   "metadata": {},
   "source": [
    "<a href=\"#top_of_steps\">top</a>"
   ]
  },
  {
   "cell_type": "markdown",
   "metadata": {},
   "source": [
    "# Compute derivative of logistic regression."
   ]
  },
  {
   "cell_type": "markdown",
   "metadata": {},
   "source": [
    "In order to optimize the function, we want to take the derivative of the function, and update $\\mathbf{w}$ according to the direction of the gradient."
   ]
  },
  {
   "cell_type": "markdown",
   "metadata": {},
   "source": [
    "## To-do:\n",
    "1. Write down the derivative of the **penalized log likelihood function** for each $ w_j $. Hint: Remember that bias term is $w_0$ and treat it separately from the rest of $w_j$, $j\\in\\{1,...,p\\}$ **[1 pt]**\n",
    "2. Write down the gradient of log likelihood function. Hint: You can express this in terms of probabilities. **[1 pt]**\n",
    "3. Update the loglikelihood function to return both the loglikelihood and the gradient. **[1 pt]**"
   ]
  },
  {
   "cell_type": "markdown",
   "metadata": {},
   "source": [
    "1. \n",
    "$ \\frac{\\partial PLL(\\mathbf{w})}{ \\partial w_0} = \\sum_i \\frac{\\exp\\{-y_i(\\mathbf{w'} \\cdot \\mathbf{x'}_i)}{1+\\exp\\{-y_i(\\mathbf{w'} \\cdot \\mathbf{x'}_i)}y_i$ <br \\>\n",
    "$ \\frac{\\partial PLL(\\mathbf{w})}{ \\partial w_j} = \\sum_i  \\frac{\\exp\\{-y_i(\\mathbf{w'} \\cdot \\mathbf{x'}_i)}{1+\\exp\\{-y_i(\\mathbf{w'} \\cdot \\mathbf{x'}_i)}y_ix_{i,j} - \\alpha x_{i,j}, j>0$ \n",
    "<br \\>\n",
    "2. \n",
    "$ \\nabla PLL(\\mathbf{w}) = \\sum_i (1 - p(y_i|\\mathbf{x'}_i,\\mathbf{w}')) y_i\\begin{bmatrix}  1\\\\x_{i,1} \\\\ \\vdots \\\\ x_{i,p} \\end{bmatrix} - \\begin{bmatrix}  0 \\\\ \\alpha w_1  \\\\ \\vdots \\\\ \\alpha w_p \\end{bmatrix} $"
   ]
  },
  {
   "cell_type": "code",
   "execution_count": 118,
   "metadata": {},
   "outputs": [],
   "source": [
    "import numpy as np\n",
    "def loglikelihood(w, X, y, alpha): \n",
    "    #compute loglikelihood for current w given the data X, y\n",
    "    #w is a (p+1) vector which includes b as w[0], \n",
    "    #X is a n*(p+1) matrix with the first column composed of 1s\n",
    "    #y is a (n*1)vector.\n",
    "    tmp = 1. + np.exp( -y*np.dot(X,w) )\n",
    "    prob = 1./tmp\n",
    "    X = X.transpose() #X becomes a p*n matrix so the gradVal can be compute straight-forwardly.\n",
    "    gradVal = np.sum(X*((1 - prob)*y),axis=1)\n",
    "    penalty = alpha/2.*np.sum(w[1:]**2)\n",
    "    gradPenalty = -alpha*w\n",
    "    gradPenalty[0] = 0;\n",
    "    return -np.sum( np.log( tmp ) ) - penalty, gradVal + gradPenalty"
   ]
  },
  {
   "cell_type": "code",
   "execution_count": 119,
   "metadata": {},
   "outputs": [],
   "source": [
    "\n",
    "# %load grad_check.py\n",
    "def grad_check(f,xy0,delta=1e-6,tolerance=1e-7):\n",
    "    f0,g0 = f(xy0)\n",
    "    p = len(xy0)\n",
    "    finite_diff = np.zeros(p)\n",
    "    gradient_correct = True\n",
    "    for i in range(p):\n",
    "        xy1 = np.copy(xy0)\n",
    "        xy2 = np.copy(xy0)\n",
    "        xy1[i] = xy1[i] - 0.5*delta\n",
    "        xy2[i] = xy2[i] + 0.5*delta\n",
    "        f1,_ = f(xy1)\n",
    "        f2,_ = f(xy2)\n",
    "        finite_diff = (f2 - f1)/(delta)\n",
    "        if (abs(finite_diff - g0[i])>tolerance):\n",
    "            print(\"Broken partial\",i,\" Finite Diff: \",finite_diff,\" Partial: \",g0[i])\n",
    "            gradient_correct = False\n",
    "    return gradient_correct"
   ]
  },
  {
   "cell_type": "code",
   "execution_count": 120,
   "metadata": {},
   "outputs": [],
   "source": [
    "w_init = np.random.randn( train_data_pad.shape[1] )*0.001\n",
    "w_init[0] = 0"
   ]
  },
  {
   "cell_type": "code",
   "execution_count": 121,
   "metadata": {
    "scrolled": true
   },
   "outputs": [
    {
     "data": {
      "text/plain": [
       "True"
      ]
     },
     "execution_count": 121,
     "metadata": {},
     "output_type": "execute_result"
    }
   ],
   "source": [
    "g = lambda xy0: loglikelihood(xy0, X=train_data_pad[:,:15], y=trainLabel, alpha=1)\n",
    "grad_check( g, w_init[:15], delta=1e-6, tolerance=1e-5 )"
   ]
  },
  {
   "cell_type": "code",
   "execution_count": 123,
   "metadata": {},
   "outputs": [],
   "source": [
    "import matplotlib.pyplot as plt\n",
    "%matplotlib inline\n",
    "# %load gradient_ascent\n",
    "def gradient_ascent(f,x,init_step,iterations):  \n",
    "    f_val,grad = f(x)                           # compute function value and gradient \n",
    "    f_vals = [f_val]\n",
    "    for it in range(iterations):                # iterate for a fixed number of iterations\n",
    "        #print 'iteration %d' % it\n",
    "        done = False                            # initial condition for done\n",
    "        line_search_it = 0                      # how many times we tried to shrink the step\n",
    "        step = init_step                        # reset step size to the initial size\n",
    "        while not done and line_search_it<100:  # are we done yet?\n",
    "            new_x = x + step*grad               # take a step along the gradient\n",
    "            new_f_val,new_grad = f(new_x)       # evaluate function value and gradient\n",
    "            if new_f_val<f_val:                 # did we go too far?\n",
    "                step = step*0.95                # if so, shrink the step-size\n",
    "                line_search_it += 1             # how many times did we shrank the step\n",
    "            else:\n",
    "                done = True                     # better than the last x, so we move on\n",
    "        \n",
    "        if not done:                            # did not find right step size\n",
    "            print(\"Line Search failed.\")\n",
    "        else:\n",
    "            f_val = new_f_val                   # ah, we are ok, accept the new x\n",
    "            x = new_x\n",
    "            grad = new_grad\n",
    "            f_vals.append(f_val)\n",
    "        plt.plot(f_vals)\n",
    "    plt.xlabel('Iterations')\n",
    "    plt.ylabel('Function value')\n",
    "    return f_val, x"
   ]
  },
  {
   "cell_type": "code",
   "execution_count": 124,
   "metadata": {},
   "outputs": [],
   "source": [
    "np.random.seed(12345)\n",
    "w_init = np.random.randn( train_data_pad.shape[1] )*0.001\n",
    "w_init[0] = 0"
   ]
  },
  {
   "cell_type": "markdown",
   "metadata": {},
   "source": [
    "## To-do:\n",
    "* Try different init_step (1e-4, 1e-5, 1e-6) using the following code, report the final regularized log-likelihood values. **[1 pt]**"
   ]
  },
  {
   "cell_type": "code",
   "execution_count": 125,
   "metadata": {
    "collapsed": true
   },
   "outputs": [],
   "source": [
    "def optimizeFn( init_step, iterations, alpha, w):\n",
    "    g = lambda xy0: loglikelihood(xy0, train_data_pad, trainLabel, alpha)\n",
    "    f_val, update_w = gradient_ascent( g, w, init_step, iterations )\n",
    "    return f_val, update_w"
   ]
  },
  {
   "cell_type": "code",
   "execution_count": 132,
   "metadata": {
    "scrolled": false
   },
   "outputs": [
    {
     "name": "stdout",
     "output_type": "stream",
     "text": [
      "Init_step: 0.0001 final log-likelihood = -2602.17036787\n",
      "Init_step: 1e-05 final log-likelihood = -3033.03824892\n",
      "Init_step: 1e-06 final log-likelihood = -4707.15530113\n"
     ]
    },
    {
     "data": {
      "image/png": "[encoded data removed]",
      "text/plain": [
       "<matplotlib.figure.Figure at 0x6e97e10>"
      ]
     },
     "metadata": {},
     "output_type": "display_data"
    }
   ],
   "source": [
    "for init_step in [1e-4,1e-5,1e-6]:\n",
    "    start = time.time()\n",
    "    f_val, update_w=optimizeFn( init_step = init_step, iterations=100, alpha=0, w = w_init) #set init_step to 1e-4, 1e-5, 1e-6\n",
    "    end = time.time()\n",
    "    print('Init_step: {} final log-likelihood = {}'.format(init_step,f_val))"
   ]
  },
  {
   "cell_type": "markdown",
   "metadata": {},
   "source": [
    "Final regularized log-likelihood values for (1e-4, 1e-5, 1e-6) are: ..."
   ]
  },
  {
   "cell_type": "markdown",
   "metadata": {},
   "source": [
    "## To-do:\n",
    "1. Implement the prediction function. It should take as inputs feature weights and feature matrix. It should return vector of labels. **[1 pt]**\n",
    "2. Try different alpha (1000, 2000, 3000), and report which alpha produces the model that has the best accuracy on the validation set **[1 pt]**\n",
    "2. **[optional]** Report one sample that is classified wrong with high probabilites (> 90%). **[1 pt]**\n",
    "3. **[optional]** Report the words (entries in vocab_list associated with that feature) that cause the sample reported in (2) classify wrong. Note that weight w[i] correponds to word vocab_list[i-1], because we included bias term in w.**[1 pt]**"
   ]
  },
  {
   "cell_type": "code",
   "execution_count": 128,
   "metadata": {},
   "outputs": [],
   "source": [
    "def prediction(w, validData ):\n",
    "    prob = 1./(1+np.exp( -np.dot(validData, w) ));\n",
    "    res = np.zeros(validData.shape[0])\n",
    "    res[prob>=0.5] = 1\n",
    "    res[prob<0.5] = -1\n",
    "    return res"
   ]
  },
  {
   "cell_type": "code",
   "execution_count": 134,
   "metadata": {
    "scrolled": true
   },
   "outputs": [
    {
     "name": "stdout",
     "output_type": "stream",
     "text": [
      "alpha=1000 accuracy on the validation set 84.52%\n",
      "alpha=2000 accuracy on the validation set 84.60%\n",
      "alpha=3000 accuracy on the validation set 84.74%\n",
      "Best alpha: 3000 accuracy is 84.74\n"
     ]
    },
    {
     "data": {
      "image/png": "[encoded data removed]",
      "text/plain": [
       "<matplotlib.figure.Figure at 0x152e4c88>"
      ]
     },
     "metadata": {},
     "output_type": "display_data"
    }
   ],
   "source": [
    "#see the accuracy on the validation set\n",
    "#when init_step=1e-5, the model has the best accuracy in the validation set\n",
    "best_accuracy = 0\n",
    "for alpha in [1000,2000,3000]:\n",
    "    f_val, update_w=optimizeFn( init_step = 1e-5, iterations=100, alpha=alpha, w=w_init) #try different alphas [1000, 2000, 3000]\n",
    "    pred = prediction(update_w, valid_data_pad)\n",
    "    accuracy = 100.*np.mean(pred==validLabel)\n",
    "    print( 'alpha={} accuracy on the validation set {:.2f}%'.format( alpha, accuracy ))\n",
    "    if accuracy>best_accuracy:\n",
    "        best_alpha = alpha\n",
    "        best_accuracy = accuracy\n",
    "\n",
    "print(\"Best alpha: {} accuracy is {}\".format(best_alpha, best_accuracy))"
   ]
  },
  {
   "cell_type": "code",
   "execution_count": 135,
   "metadata": {},
   "outputs": [],
   "source": [
    "wrong_idx = np.nonzero( validLabel != pred )[0] #use this command to get the samples that are predicted wrong"
   ]
  },
  {
   "cell_type": "code",
   "execution_count": 136,
   "metadata": {
    "collapsed": true
   },
   "outputs": [],
   "source": [
    "#implement the function to compute probability\n",
    "def computeProb(w, validData ):\n",
    "    prob = 1./(1+np.exp( -np.dot(validData, w) ))\n",
    "    return prob"
   ]
  },
  {
   "cell_type": "code",
   "execution_count": 140,
   "metadata": {},
   "outputs": [
    {
     "name": "stdout",
     "output_type": "stream",
     "text": [
      "Sample index is [95]\n"
     ]
    }
   ],
   "source": [
    "#get the samples that are classified wrong and with probabilites > 0.9\n",
    "probs = computeProb(update_w, valid_data_pad)\n",
    "wrong_idx_high = [i for i in wrong_idx if probs[i]>0.9 or probs[i]<0.1]\n",
    "sampleIdx = [wrong_idx_high[0]]\n",
    "print"
   ]
  },
  {
   "cell_type": "code",
   "execution_count": 210,
   "metadata": {},
   "outputs": [],
   "source": [
    "#Use this function to get the most important words for each sample index\n",
    "#This function returns a list of top 10 words that influence the prediction.\n",
    "def getMostImportantFeatures( sampleIdx, validData, update_w, vocab_list ):\n",
    "    importantList = []\n",
    "    intensity = validData[sampleIdx,:]*update_w\n",
    "    tmp = np.argsort( np.abs(intensity[0,:]) )[::-1]\n",
    "    for j in np.arange(10):\n",
    "        importantList.append(vocab_list[tmp[j]-1])\n",
    "    return importantList"
   ]
  },
  {
   "cell_type": "code",
   "execution_count": 211,
   "metadata": {},
   "outputs": [
    {
     "name": "stdout",
     "output_type": "stream",
     "text": [
      "[u'please', u'atmosphere', u'dull', u'poor', u'excellent', u'bad', u'point', u'job', u'make', u'silly']\n"
     ]
    }
   ],
   "source": [
    "importantList = getMostImportantFeatures( sampleIdx, valid_data_pad, update_w, vocab_list) #use the sample index got from the previous result\n",
    "print importantList\n"
   ]
  },
  {
   "cell_type": "code",
   "execution_count": 212,
   "metadata": {
    "collapsed": true
   },
   "outputs": [],
   "source": [
    "#load file ids\n",
    "if not os.path.isfile('train_id.pgz'):\n",
    "    U.urlretrieve( \"https://cs.unc.edu/~ycharn/comp562/hw1/train_id.pgz\", \"train_id.pgz\" );\n",
    "train_id = pickle.load( gzip.open( \"train_id.pgz\", \"rb\" ) )\n",
    "valid_id = train_id[10000:15000]"
   ]
  },
  {
   "cell_type": "code",
   "execution_count": 213,
   "metadata": {},
   "outputs": [],
   "source": [
    "fileName = valid_id[sampleIdx[0]]\n",
    "fileUrl = \"https://cs.unc.edu/~ycharn/comp562/hw1/reviews/\" + fileName + '.txt'"
   ]
  },
  {
   "cell_type": "code",
   "execution_count": 215,
   "metadata": {},
   "outputs": [
    {
     "name": "stdout",
     "output_type": "stream",
     "text": [
      "These are excerpts from a nine-page \"Memo to Mr. Cohn from Mr. Welles\", written after Orson had seen studio mogul Harry Cohn's edited version of the picture (he took an hour out): <br /><br />\"...The preview title music was written by a first rate composer, George Antheil. Although not written for our picture at all, this temporary title music had an atmosphere of darkness and menace combined with something lush and romantic which made it acceptable...The only musical idea which seems to have occurred to this present composer (Heinz Roemheld) is the rather weary one of using a popular song--the \"theme\"--in as many arrangements as possible. Throughout we have musical references to \"Please Don't Kiss Me\" for almost every bridge and also for a great deal of the background material. The tune is pleasing, it may do very well on the Hit Parade--but Lady from Shanghai is not a musical comedy...Mr. Roemheld is an ardent devotee of an old-fashioned type of scoring now referred to in our business as \"Disney\". In other words, if somebody falls down, he makes a \"falling down\" sound in the orchestra, etc., etc...If the lab had scratched initials and phone numbers all over the negative, I couldn't be unhappier about the results...Just before I left to go abroad, I asked Vi (Viola Lawrence, the editor) to make a cut which would involve dropping the near accident with the taxi-cab and also quite a bit of dialogue. I am convinced that this would have been an excellent cut...saving much needed footage in the slow opening sequence (this was not done, accounting for the main weaknesses of the film's opening reel)...There is nothing in the fact of Rita's diving to warrant a big orchestral crescendo...What does matter is Rita's beauty...the evil overtones suggested by Grigsby's character, and Michael's bewilderment. Any or all of these items might have inspired the music. Instead, the dive is treated as though it were a major climax or some antic moment in a Silly Symphony: a pratfall by Pluto the Pup, or a wild jump into space by Donald Duck...There is no sound atmosphere on the boat. A little wind and water is sorely missed. There's no point in photographing a scene on a real boat if you make it sound as though it all happened in front of a process screen...At the start of the picnic sequence...in the temporary score, we used a very curious, sexy Latin-American strain...This has been replaced with a corny \"dramatic\" sequel--bad stock stuff...This sort of music destroys that quality of strangeness which is exactly what might have saved Lady from Shanghai from being just another whodunit...There is a big musical outburst after Grigsby's line, \"I want you to kill him.\" This is absurd...The Hawaiian guitar music which comes out of the radio...was supposed to be corny enough to make a certain satirical point. As it stands now, it's on about the same level as the rest of the scoring. Nobody in the audience could possibly suspect that we're kidding...The aquarium scene needs more echo. \"Please Don't Kiss Me\" is in again!...A bad dubbing job and poor scoring has destroyed the character of Michael's run down the pier. From the gunshot through to the phone call, a careful pattern of voices had been built up with the expenditure of much time and effort. For some reason, this has all been junked in favor of a vague hullabaloo. As a result, the whole sequence seems dull...The audience should feel at this point, along with Michael, that maybe they are going crazy. The new dubbing job can only make them feel that maybe they're going to sleep...The gun battle with the breaking mirrors must not be backed with music...The closing music again makes reference to \"Please Don't Kiss Me\"...This finale is obvious to the point of vulgarity, and does incalculable injury to the finish of the picture.\"<br /><br />All of these edits from Orson were ignored\n"
     ]
    }
   ],
   "source": [
    "U.urlretrieve(fileUrl, fileName)\n",
    "U.urlretrieve(fileUrl, fileName)\n",
    "with open(fileName, 'r') as f:\n",
    "    print(f.read())"
   ]
  },
  {
   "cell_type": "markdown",
   "metadata": {
    "collapsed": true
   },
   "source": [
    "<a href=\"#top_of_steps\">top</a>"
   ]
  }
 ],
 "metadata": {
  "anaconda-cloud": {},
  "kernelspec": {
   "display_name": "Python 2",
   "language": "python",
   "name": "python2"
  },
  "language_info": {
   "codemirror_mode": {
    "name": "ipython",
    "version": 2
   },
   "file_extension": ".py",
   "mimetype": "text/x-python",
   "name": "python",
   "nbconvert_exporter": "python",
   "pygments_lexer": "ipython2",
   "version": "2.7.15"
  }
 },
 "nbformat": 4,
 "nbformat_minor": 1
}
