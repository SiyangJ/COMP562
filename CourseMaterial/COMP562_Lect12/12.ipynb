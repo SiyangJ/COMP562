{
 "cells": [
  {
   "cell_type": "markdown",
   "metadata": {
    "nbpresent": {
     "id": "aab7fd3c-11a1-4073-a957-c10735d7afae"
    },
    "slideshow": {
     "slide_type": "slide"
    }
   },
   "source": [
    " # COMP 562 – Lecture 12\n",
    "$$\n",
    "\\newcommand{\\xx}{\\mathbf{x}}\n",
    "\\newcommand{\\yy}{\\mathbf{y}}\n",
    "\\newcommand{\\zz}{\\mathbf{z}}\n",
    "\\newcommand{\\vv}{\\mathbf{v}}\n",
    "\\newcommand{\\bbeta}{\\boldsymbol{\\mathbf{\\beta}}}\n",
    "\\newcommand{\\mmu}{\\boldsymbol{\\mathbf{\\mu}}}\n",
    "\\newcommand{\\ssigma}{\\boldsymbol{\\mathbf{\\sigma}}}\n",
    "\\newcommand{\\reals}{\\mathbb{R}}\n",
    "\\newcommand{\\loglik}{\\mathcal{LL}}\n",
    "\\newcommand{\\penloglik}{\\mathcal{PLL}}\n",
    "\\newcommand{\\likelihood}{\\mathcal{L}}\n",
    "\\newcommand{\\Data}{\\textrm{Data}}\n",
    "\\newcommand{\\given}{ \\big| }\n",
    "\\newcommand{\\MLE}{\\textrm{MLE}}\n",
    "\\newcommand{\\EE}{\\mathbb{E}}\n",
    "\\newcommand{\\KL}{\\textrm{KL}}\n",
    "\\newcommand{\\Bound}{\\mathcal{B}}\n",
    "\\newcommand{\\tth}{\\textrm{th}}\n",
    "\\newcommand{\\Gaussian}[2]{\\mathcal{N}\\left(#1,#2\\right)}\n",
    "\\newcommand{\\norm}[1]{\\left\\lVert#1\\right\\rVert}\n",
    "\\newcommand{\\ones}{\\mathbf{1}}\n",
    "\\newcommand{\\diag}[1]{\\textrm{diag}\\left( #1 \\right)}\n",
    "\\newcommand{\\sigmoid}[1]{\\sigma\\left(#1\\right)}\n",
    "\\newcommand{\\myexp}[1]{\\exp\\left\\{#1\\right\\}}\n",
    "\\newcommand{\\mylog}[1]{\\log\\left\\{#1\\right\\}}\n",
    "\\newcommand{\\argmax}{\\mathop{\\textrm{argmax}}}\n",
    "\\newcommand{\\new}{\\textrm{new}}\n",
    "\\newcommand{\\old}{\\textrm{old}}\n",
    "$$"
   ]
  },
  {
   "cell_type": "markdown",
   "metadata": {
    "nbpresent": {
     "id": "7d3a96df-84a2-481a-a4e4-49ac4837dfbf"
    },
    "slideshow": {
     "slide_type": "slide"
    }
   },
   "source": [
    "# EM Algorithm for Mixture of Gaussians without Covariance\n",
    "\n",
    "The model\n",
    "$$\n",
    "\\begin{aligned}\n",
    "p(h\\mid \\alpha) &= \\alpha_h \\\\\n",
    "p(\\xx \\mid h,\\mu) &= (2\\pi)^{-\\frac{d}{2}} \\myexp{-\\frac{1}{2}(\\xx - \\mu_{h_t})^T(\\xx - \\mu_{h_t})} \\\\\n",
    "\\end{aligned}\n",
    "$$\n",
    "is a variant of **Mixture of Gaussians**\n",
    "\n",
    "$\\alpha_c$ is an a-priori probability that a sample comes from class $c$ -- also called **mixing proportion**\n",
    "\n",
    "The bound \n",
    "$$\n",
    "\\begin{aligned}\n",
    "\\Bound(\\Theta,q) &= \\sum_{i=1}^N \\sum_{h_i} q_i(h_i) \\log \\frac{ p(\\xx_i,h_i\\mid \\Theta) }{ q_i(h_i) } \\\\\n",
    "&=  \\sum_{i=1}^T \\sum_{h_i} q_i(h_i) \\left[ \\log \\alpha_{h_i} -\\frac{d}{2} \\log (2\\pi) -\\frac{1}{2}(\\xx - \\mu_{h_i})^T(\\xx - \\mu_{h_i}) \\right] \\\\\n",
    "&- \\sum_{i=1}^T \\sum_{h_i} q_i(h_i) \\log q_i(h_i)\n",
    "\\end{aligned}\n",
    "$$\n",
    "In this case $\\Theta = (\\alpha_1,...,\\alpha_K,\\mu_1, ...,\\mu_K)$"
   ]
  },
  {
   "cell_type": "markdown",
   "metadata": {
    "slideshow": {
     "slide_type": "slide"
    }
   },
   "source": [
    "\n",
    "# Mixture of Gaussians without Covariance -- E-step\n",
    "\n",
    "In E-step we optimize $q$s given $\\Theta$\n",
    "\n",
    "$$\n",
    "\\begin{aligned}\n",
    "q^{\\new}_i &= \\argmax_{q_i} \\mathcal{B}(\\Theta^{\\old},q) \\\\\n",
    "\\end{aligned}\n",
    "$$\n",
    "\n",
    "In general, we can take derivatives, equate them to zero, and solve:\n",
    "\n",
    "$$\n",
    "\\nabla_{q_i}  \\mathcal{B}(\\Theta^{\\old},q)  = 0 \n",
    "$$\n",
    "\n",
    "We can show that in our case, the E-step updates are:\n",
    "\n",
    "$$\n",
    "\\begin{aligned}\n",
    "q_i(h_i = k) &= p(h_i =k \\mid \\xx_i, \\mu)  = \\frac{p(\\xx_i,h_i = k \\mid \\mu)}{\\underbrace{\\sum_c p(\\xx_i,h_i=c \\mid \\mu)}_{\\textrm{same for all values of } k}}\\\\\n",
    " &\\propto p(\\xx_i,h_i = k\\mid \\mu) = p(h_i = k \\mid \\alpha) p(\\xx \\mid h_i=k,\\mu) \\\\\n",
    "        &=  \\alpha_{h_i} (2\\pi)^{-\\frac{d}{2}} \\myexp{-\\frac{1}{2}(\\xx - \\mu_h)^T(\\xx - \\mu_h)}\n",
    "\\end{aligned}\n",
    "$$ "
   ]
  },
  {
   "cell_type": "markdown",
   "metadata": {
    "slideshow": {
     "slide_type": "slide"
    }
   },
   "source": [
    "# Mixture of Gaussians without Covariance -- M-step\n",
    "\n",
    "In M-step we optimize $\\Theta$ given $q$s\n",
    "$$\n",
    "\\Theta^{\\new} = \\argmax_{\\Theta} \\mathcal{B}(\\Theta,q^{\\new}) \n",
    "$$\n",
    "\n",
    "In general, we can take derivatives, equate them to zero, and solve:\n",
    "$$\n",
    "\\nabla_{\\Theta}  \\mathcal{B}(\\Theta,q^{\\new})  = 0 \n",
    "$$\n",
    "\n",
    "We can show that in our case, the M-step updates are:\n",
    "\n",
    "$$\n",
    "\\begin{aligned}\n",
    "\\mu_k^* &= \\frac{\\sum_i q_i(h_i = k) \\xx_i}{\\sum_i q_i(h_i = k)} \\\\\n",
    "\\alpha^*_k &= \\frac{\\sum_i q_i(h_i = k)}{N}\n",
    "\\end{aligned}\n",
    "$$"
   ]
  },
  {
   "cell_type": "markdown",
   "metadata": {
    "slideshow": {
     "slide_type": "slide"
    }
   },
   "source": [
    "# EM Algorithm for Mixture of Gaussians with Covariance\n",
    "\n",
    "The model\n",
    "\n",
    "$$\n",
    "\\begin{aligned}\n",
    "p(h\\mid \\alpha) &= \\alpha_h \\\\\n",
    "p(\\xx \\mid h,\\mu) &= (2\\pi)^{-\\frac{d}{2}}\\color{red}{|\\Sigma_h|^{-\\frac{1}{2}}} \\myexp{-\\frac{1}{2}(\\xx - \\mu_{h_i})^T\\color{red}{\\Sigma_h^{-1}}(\\xx - \\mu_{h_i})} \\\\\n",
    "\\end{aligned}\n",
    "$$\n",
    "\n",
    "This is also a variant of **Mixture of Gaussians** Note that we introduced a covariance matrix per cluster\n",
    "\n",
    "* Hidden variables: $h_i$ -- cluster membership for sample $i$\n",
    "* Parameters: $\\Theta = (\\underbrace{\\alpha_1,...,\\alpha_K}_{\\textrm{proportions}},\\underbrace{\\mu_1, ...,\\mu_K}_{\\textrm{means}},\\underbrace{\\Sigma_1,...,\\Sigma_K}_{\\textrm{covariances}})$"
   ]
  },
  {
   "cell_type": "markdown",
   "metadata": {
    "slideshow": {
     "slide_type": "slide"
    }
   },
   "source": [
    "# EM Algorithm for Mixture of Gaussians with Covariance\n",
    "\n",
    "We plug-in probabilities $p(\\xx_i\\mid h_i,\\Theta)$ and $p(h_i\\mid \\alpha)$ in the bound\n",
    "\n",
    "$$\n",
    "\\begin{aligned}\n",
    "\\Bound(\\Theta,q) &&= \\sum_{i=1}^N \\sum_{h_i} q_i(h_i)&\\log \\frac{ p(\\xx_i,h_i\\mid \\Theta) }{ q_i(h_i) } \\\\\n",
    "&&=  \\sum_{i=1}^N \\sum_{h_i} q_i(h_i) &\\left[ \\log \\alpha_{h_i} -\\frac{d}{2} \\log (2\\pi)-\\color{red}{\\frac{1}{2}\\log|\\Sigma_{h_i}|}\\right. \\\\\n",
    "&&& \\left.  -\\frac{1}{2}(\\xx_i - \\mu_{h_i})^T\\color{red}{\\Sigma_{h_i}^{-1}}(\\xx_i - \\mu_{h_i}) \\right] \\\\\n",
    "&&- \\sum_{i=1}^N \\sum_{h_i} q_i(h_i)& \\log q_i(h_i)\n",
    "\\end{aligned}\n",
    "$$\n"
   ]
  },
  {
   "cell_type": "markdown",
   "metadata": {
    "slideshow": {
     "slide_type": "slide"
    }
   },
   "source": [
    "# Mixture of Gaussians with Covariance -- E-step\n",
    "\n",
    "$$\n",
    "\\begin{aligned}\n",
    "q_i(h_i = k) &= p(h_i =k \\mid \\xx_i, \\mu)  = \\frac{p(\\xx_i,h_i = k \\mid \\mu)}{\\underbrace{\\sum_c p(\\xx_i,h_i=c \\mid \\mu)}_{\\textrm{same for all values of } k}}\\\\\n",
    " &\\propto p(\\xx_i,h_i = k\\mid \\mu) = p(h_i = k \\mid \\alpha) p(\\xx \\mid h_i=k,\\mu) \\\\\\\\\n",
    "        &=  \\alpha_{h_i} (2\\pi)^{-\\frac{d}{2}}\\color{red}{|\\Sigma_{h_i}^{-1}|} \\myexp{-\\frac{1}{2}(\\xx - \\mu_{h_i})^T\\color{red}{\\Sigma_{h_i}^{-1}}(\\xx - \\mu_{h_i})}\n",
    "\\end{aligned}\n",
    "$$ \n",
    "Implementation:\n",
    "```\n",
    "q = numpy.zeros((K,N))           # clusters x samples\n",
    "q = logjointp(x,Theta)           # compute all joints at once\n",
    "loglik = numpy.sum(logsumexp(q)) # compute loglikelihood\n",
    "q = q - logsumexp(q)             # normalizing across clusters\n",
    "```\n"
   ]
  },
  {
   "cell_type": "markdown",
   "metadata": {
    "slideshow": {
     "slide_type": "slide"
    }
   },
   "source": [
    "# Mixture of Gaussians with Covariance -- M-step\n",
    "\n",
    "Updates for parameters of prior probability $p(h \\mid \\alpha)$\n",
    "$$\n",
    "\\alpha^*_k = \\frac{\\sum_i q_i(h_i = k)}{N}\n",
    "$$\n",
    "Updates for means of clusters\n",
    "$$\n",
    "\\mu_k^* = \\frac{\\sum_i q_i(h_i = k) \\xx_i}{\\sum_i q_i(h_i = k)} \n",
    "$$\n",
    "Updates for covariances of clusters\n",
    "$$\n",
    "\\Sigma_k^* = \\frac{\\sum_i q_i(h_i = k) (\\xx_i - \\mu^*_k)(\\xx_i-\\mu^*_k)^T}{\\sum_i q_i(h_i = k)} \n",
    "$$"
   ]
  },
  {
   "cell_type": "markdown",
   "metadata": {
    "slideshow": {
     "slide_type": "slide"
    }
   },
   "source": [
    "# Debugging EM Algorithm\n",
    "\n",
    "1. Log-likelihood should always go up!\n",
    "2. Synthetic data is your friend, if you generate data from your model you get samples and cluster membership\n",
    "3. E-step computes cluster membership based on parameters. Use this!\n",
    "    * Synthesize data from ground truth parameters \n",
    "    * Start your EM from ground truth parameters, not random initialization\n",
    "    * Does your E step associate samples with correct clusters?\n",
    "    * Select one sample and look at its posterior probability for the cluster it came from\n",
    "4. M-step updates parameters based on cluster membership. Use this!\n",
    "    * Using synthetic data, set ```q``` to be one-hot according to ground truth\n",
    "    * Start your M-step with this ```q```\n",
    "    * If you don't get parameters back that are close to the ground truth\n",
    "    * To isolate a broken update, let M-step update just one parameter (for example mus)\n",
    "5. Starting your EM with ground truth parameters should not budge too much\n",
    "    \n",
    "Between these tricks you should be able to isolate source of your problem"
   ]
  }
 ],
 "metadata": {
  "anaconda-cloud": {},
  "celltoolbar": "Slideshow",
  "kernelspec": {
   "display_name": "Python 2",
   "language": "python",
   "name": "python2"
  },
  "language_info": {
   "codemirror_mode": {
    "name": "ipython",
    "version": 3
   },
   "file_extension": ".py",
   "mimetype": "text/x-python",
   "name": "python",
   "nbconvert_exporter": "python",
   "pygments_lexer": "ipython3",
   "version": "3.5.2"
  },
  "nbpresent": {
   "slides": {
    "0351a772-c92a-4430-84b4-7130549e7ab0": {
     "id": "0351a772-c92a-4430-84b4-7130549e7ab0",
     "prev": "1ae7150b-6121-40bd-8f33-b1b0690791e2",
     "regions": {
      "da29fdf0-46b3-49f8-8047-2d5d7254a245": {
       "attrs": {
        "height": 0.8,
        "width": 0.8,
        "x": 0.1,
        "y": 0.1
       },
       "content": {
        "cell": "fbcdc5fe-8e7e-4180-9764-ecad0ef709ea",
        "part": "whole"
       },
       "id": "da29fdf0-46b3-49f8-8047-2d5d7254a245"
      }
     }
    },
    "12b628e8-f03d-4ade-acba-73b1c75754a9": {
     "id": "12b628e8-f03d-4ade-acba-73b1c75754a9",
     "prev": "ffc1d54c-925e-4648-8d83-24541d52be7c",
     "regions": {
      "7d32489a-204e-4b5c-b95b-a9fd5f7e447a": {
       "attrs": {
        "height": 0.8,
        "width": 0.8,
        "x": 0.1,
        "y": 0.1
       },
       "content": {
        "cell": "b934daf2-1dfd-4706-a216-f46f107d3fb7",
        "part": "whole"
       },
       "id": "7d32489a-204e-4b5c-b95b-a9fd5f7e447a"
      }
     }
    },
    "14c534af-5d17-41c3-a3b0-81839aa8692a": {
     "id": "14c534af-5d17-41c3-a3b0-81839aa8692a",
     "prev": "a7c7f5ef-322e-4638-9a05-4e6aab630bd7",
     "regions": {
      "f7032b61-9587-4bf6-99ef-c455b56a349c": {
       "attrs": {
        "height": 0.8,
        "width": 0.8,
        "x": 0.1,
        "y": 0.1
       },
       "content": {
        "cell": "8c34e974-39aa-46da-a01d-8cdfc4ee35c2",
        "part": "whole"
       },
       "id": "f7032b61-9587-4bf6-99ef-c455b56a349c"
      }
     }
    },
    "1ae7150b-6121-40bd-8f33-b1b0690791e2": {
     "id": "1ae7150b-6121-40bd-8f33-b1b0690791e2",
     "prev": "8600b916-dfb8-44a1-876a-6d80797c5899",
     "regions": {
      "d22b7fc2-48b8-4413-ad89-eb0b182d455a": {
       "attrs": {
        "height": 0.8,
        "width": 0.8,
        "x": 0.1,
        "y": 0.1
       },
       "content": {
        "cell": "e30a931b-932b-4b01-b4c1-884208eb4530",
        "part": "whole"
       },
       "id": "d22b7fc2-48b8-4413-ad89-eb0b182d455a"
      }
     }
    },
    "292fd08b-58d1-4a30-ae20-3a0ab5320860": {
     "id": "292fd08b-58d1-4a30-ae20-3a0ab5320860",
     "prev": "ddcfa80f-2c65-4afe-aa32-296ec97b2344",
     "regions": {
      "cbe3fa3e-c517-4207-ac11-d884ffa1f3ed": {
       "attrs": {
        "height": 0.8,
        "width": 0.8,
        "x": 0.1,
        "y": 0.1
       },
       "content": {
        "cell": "7cbecfc4-fa24-414c-82e4-fbb242fa3faf",
        "part": "whole"
       },
       "id": "cbe3fa3e-c517-4207-ac11-d884ffa1f3ed"
      }
     }
    },
    "2cdbba23-1148-4f6c-8549-692283c5e35c": {
     "id": "2cdbba23-1148-4f6c-8549-692283c5e35c",
     "prev": "eff734ad-96ec-463a-87fb-dda40cc8ce48",
     "regions": {
      "9724d964-f1ea-4f62-a7da-9bf35dfad5e7": {
       "attrs": {
        "height": 0.8,
        "width": 0.8,
        "x": 0.1,
        "y": 0.1
       },
       "content": {
        "cell": "e7cc0d43-4957-4271-bf7b-0a35ae71117c",
        "part": "whole"
       },
       "id": "9724d964-f1ea-4f62-a7da-9bf35dfad5e7"
      }
     }
    },
    "401fafc4-bb94-4bc6-a8b2-dee06ae8ae8b": {
     "id": "401fafc4-bb94-4bc6-a8b2-dee06ae8ae8b",
     "prev": "2cdbba23-1148-4f6c-8549-692283c5e35c",
     "regions": {
      "5b755dea-45ce-44d7-8dce-aecbebaabd58": {
       "attrs": {
        "height": 0.8,
        "width": 0.8,
        "x": 0.1,
        "y": 0.1
       },
       "content": {
        "cell": "107f8412-5f74-449a-b934-156820f0bbcf",
        "part": "whole"
       },
       "id": "5b755dea-45ce-44d7-8dce-aecbebaabd58"
      }
     }
    },
    "5446f7ea-d6d7-47b1-bba5-5bcec2a4fe25": {
     "id": "5446f7ea-d6d7-47b1-bba5-5bcec2a4fe25",
     "prev": "c5b602e5-22d8-4689-8a4c-acb935322846",
     "regions": {
      "df60a52d-fc25-4b64-b6c9-a04507dc6d76": {
       "attrs": {
        "height": 0.8,
        "width": 0.8,
        "x": 0.1,
        "y": 0.1
       },
       "content": {
        "cell": "14bb883c-5a7f-4e4e-b0ff-ad59c985dcb2",
        "part": "whole"
       },
       "id": "df60a52d-fc25-4b64-b6c9-a04507dc6d76"
      }
     }
    },
    "5623e543-fe11-4ac1-9102-c01ba6f47b2d": {
     "id": "5623e543-fe11-4ac1-9102-c01ba6f47b2d",
     "prev": null,
     "regions": {
      "2ecffa8e-1c79-43ef-b42d-bffa7cc4e3e7": {
       "attrs": {
        "height": 0.8,
        "width": 0.8,
        "x": 0.1,
        "y": 0.1
       },
       "content": {
        "cell": "aab7fd3c-11a1-4073-a957-c10735d7afae",
        "part": "whole"
       },
       "id": "2ecffa8e-1c79-43ef-b42d-bffa7cc4e3e7"
      }
     }
    },
    "5b0c87d2-037c-4ed2-bed3-f490bfa70ccf": {
     "id": "5b0c87d2-037c-4ed2-bed3-f490bfa70ccf",
     "prev": "6c826828-2be0-4c2e-b58f-af16d6eb14ad",
     "regions": {
      "02e13c85-fd99-4af5-a680-3d217e01cc92": {
       "attrs": {
        "height": 0.8,
        "width": 0.8,
        "x": 0.1,
        "y": 0.1
       },
       "content": {
        "cell": "84557d87-6b9c-4ddb-a44c-aac2c6b74479",
        "part": "whole"
       },
       "id": "02e13c85-fd99-4af5-a680-3d217e01cc92"
      }
     }
    },
    "6c826828-2be0-4c2e-b58f-af16d6eb14ad": {
     "id": "6c826828-2be0-4c2e-b58f-af16d6eb14ad",
     "prev": "14c534af-5d17-41c3-a3b0-81839aa8692a",
     "regions": {
      "432a5f24-6769-4f43-972d-ea82d6922c05": {
       "attrs": {
        "height": 0.8,
        "width": 0.8,
        "x": 0.1,
        "y": 0.1
       },
       "content": {
        "cell": "35539823-9e9b-4458-b888-23b67b4d6553",
        "part": "whole"
       },
       "id": "432a5f24-6769-4f43-972d-ea82d6922c05"
      }
     }
    },
    "8600b916-dfb8-44a1-876a-6d80797c5899": {
     "id": "8600b916-dfb8-44a1-876a-6d80797c5899",
     "prev": "865414d8-8321-4fbc-b7d3-fce492038da5",
     "regions": {
      "5855e7e6-e804-4aa5-8cf9-4479a558a6e7": {
       "attrs": {
        "height": 0.8,
        "width": 0.8,
        "x": 0.1,
        "y": 0.1
       },
       "content": {
        "cell": "4da9ff24-f0fe-4719-8e6a-275de188652f",
        "part": "whole"
       },
       "id": "5855e7e6-e804-4aa5-8cf9-4479a558a6e7"
      }
     }
    },
    "865414d8-8321-4fbc-b7d3-fce492038da5": {
     "id": "865414d8-8321-4fbc-b7d3-fce492038da5",
     "prev": "9b359c37-fe53-4ab5-a4f8-8b72091c2fab",
     "regions": {
      "62f2b0b2-bf80-4524-bb71-17cc3da900cb": {
       "attrs": {
        "height": 0.8,
        "width": 0.8,
        "x": 0.1,
        "y": 0.1
       },
       "content": {
        "cell": "7d3a96df-84a2-481a-a4e4-49ac4837dfbf",
        "part": "whole"
       },
       "id": "62f2b0b2-bf80-4524-bb71-17cc3da900cb"
      }
     }
    },
    "9b359c37-fe53-4ab5-a4f8-8b72091c2fab": {
     "id": "9b359c37-fe53-4ab5-a4f8-8b72091c2fab",
     "prev": "5623e543-fe11-4ac1-9102-c01ba6f47b2d",
     "regions": {
      "7bcfde74-125c-4cea-afdb-a2c39805f36c": {
       "attrs": {
        "height": 0.8,
        "width": 0.8,
        "x": 0.1,
        "y": 0.1
       },
       "content": {
        "cell": "e2b9a449-7f63-483e-9e3d-734d6c16887a",
        "part": "whole"
       },
       "id": "7bcfde74-125c-4cea-afdb-a2c39805f36c"
      }
     }
    },
    "a7c7f5ef-322e-4638-9a05-4e6aab630bd7": {
     "id": "a7c7f5ef-322e-4638-9a05-4e6aab630bd7",
     "prev": "401fafc4-bb94-4bc6-a8b2-dee06ae8ae8b",
     "regions": {
      "6dd5826b-c385-41b7-b84a-2995f50f89a6": {
       "attrs": {
        "height": 0.8,
        "width": 0.8,
        "x": 0.1,
        "y": 0.1
       },
       "content": {
        "cell": "595413d3-19fa-4bee-9f22-ced173614597",
        "part": "whole"
       },
       "id": "6dd5826b-c385-41b7-b84a-2995f50f89a6"
      }
     }
    },
    "c5b602e5-22d8-4689-8a4c-acb935322846": {
     "id": "c5b602e5-22d8-4689-8a4c-acb935322846",
     "prev": "12b628e8-f03d-4ade-acba-73b1c75754a9",
     "regions": {
      "609ea961-e72b-4ed6-8041-ee84c2a9203f": {
       "attrs": {
        "height": 0.8,
        "width": 0.8,
        "x": 0.1,
        "y": 0.1
       },
       "content": {
        "cell": "0d29e769-fc04-4a74-9eb2-30e115210e9c",
        "part": "whole"
       },
       "id": "609ea961-e72b-4ed6-8041-ee84c2a9203f"
      }
     }
    },
    "d4238c0e-8429-40b5-90fd-4e82eafd70b5": {
     "id": "d4238c0e-8429-40b5-90fd-4e82eafd70b5",
     "prev": "5b0c87d2-037c-4ed2-bed3-f490bfa70ccf",
     "regions": {
      "07e14a93-6398-42fe-b609-7caea3857a56": {
       "attrs": {
        "height": 0.8,
        "width": 0.8,
        "x": 0.1,
        "y": 0.1
       },
       "content": {
        "cell": "f60716a0-d1a3-4852-ae64-94199ef71bbe",
        "part": "whole"
       },
       "id": "07e14a93-6398-42fe-b609-7caea3857a56"
      }
     }
    },
    "ddcfa80f-2c65-4afe-aa32-296ec97b2344": {
     "id": "ddcfa80f-2c65-4afe-aa32-296ec97b2344",
     "prev": "5446f7ea-d6d7-47b1-bba5-5bcec2a4fe25",
     "regions": {
      "f296dad0-361a-4660-a095-e82b3adf102a": {
       "attrs": {
        "height": 0.8,
        "width": 0.8,
        "x": 0.1,
        "y": 0.1
       },
       "content": {
        "cell": "7d9ddcb3-65ab-4635-95f1-f919c084cf8a",
        "part": "whole"
       },
       "id": "f296dad0-361a-4660-a095-e82b3adf102a"
      }
     }
    },
    "eff734ad-96ec-463a-87fb-dda40cc8ce48": {
     "id": "eff734ad-96ec-463a-87fb-dda40cc8ce48",
     "prev": "292fd08b-58d1-4a30-ae20-3a0ab5320860",
     "regions": {
      "3e138a53-a7b2-44d0-bff0-379033d9849d": {
       "attrs": {
        "height": 0.8,
        "width": 0.8,
        "x": 0.1,
        "y": 0.1
       },
       "content": {
        "cell": "cb0cc60b-b4e5-400d-9e36-6370185f40b1",
        "part": "whole"
       },
       "id": "3e138a53-a7b2-44d0-bff0-379033d9849d"
      }
     }
    },
    "ffc1d54c-925e-4648-8d83-24541d52be7c": {
     "id": "ffc1d54c-925e-4648-8d83-24541d52be7c",
     "prev": "0351a772-c92a-4430-84b4-7130549e7ab0",
     "regions": {
      "251cd137-0738-4f41-b40d-1498d0ff49e6": {
       "attrs": {
        "height": 0.8,
        "width": 0.8,
        "x": 0.1,
        "y": 0.1
       },
       "content": {
        "cell": "1b3011bf-b293-454a-b391-c366d739f399",
        "part": "whole"
       },
       "id": "251cd137-0738-4f41-b40d-1498d0ff49e6"
      }
     }
    }
   },
   "themes": {}
  }
 },
 "nbformat": 4,
 "nbformat_minor": 1
}
